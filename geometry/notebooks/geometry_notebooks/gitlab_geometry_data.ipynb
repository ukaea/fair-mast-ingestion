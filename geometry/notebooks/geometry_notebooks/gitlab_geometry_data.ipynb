{
 "cells": [
  {
   "cell_type": "markdown",
   "metadata": {},
   "source": [
    "Let's read the previous parquet files we used Pandas to make, and instead convert them to use PyArrow tables so we can have metadata with them."
   ]
  },
  {
   "cell_type": "markdown",
   "metadata": {},
   "source": [
    "## M1/M4 PF COILS "
   ]
  },
  {
   "cell_type": "code",
   "execution_count": 15,
   "metadata": {},
   "outputs": [
    {
     "data": {
      "text/plain": [
       "pyarrow.Table\n",
       "uda_name: string\n",
       "circuit_number: string\n",
       "r: float\n",
       "z: float\n",
       "height: float\n",
       "width: float\n",
       "ang1: float\n",
       "ang2: float\n",
       "----\n",
       "uda_name: [[\"amc_sol_current_1\",\"amc_sol_current_2\",\"amc_sol_current_3\",\"amc_sol_current_4\",\"amc_sol_current_5\",...,\"amc_p6u_current_6U-4\",\"amc_p6l_current_6L-1\",\"amc_p6l_current_6L-2\",\"amc_p6l_current_6L-3\",\"amc_p6l_current_6L-4\"]]\n",
       "circuit_number: [[\"1\",\"1\",\"1\",\"1\",\"1\",...,\"14\",\"15\",\"15\",\"15\",\"15\"]]\n",
       "r: [[0.1198,0.1198,0.1198,0.1198,0.1198,...,1.4518,1.4294,1.4514,1.4294,1.4514]]\n",
       "z: [[-1.3643,-1.3463,-1.3283,-1.3103,-1.2923,...,0.9327,-0.9331,-0.9331,-0.8571,-0.8571]]\n",
       "height: [[0.012,0.012,0.012,0.012,0.012,...,0.021,0.021,0.021,0.021,0.021]]\n",
       "width: [[0.017,0.017,0.017,0.017,0.017,...,0.052,0.052,0.052,0.052,0.052]]\n",
       "ang1: [[0,0,0,0,0,...,0,0,0,0,0]]\n",
       "ang2: [[0,0,0,0,0,...,0,0,0,0,0]]"
      ]
     },
     "execution_count": 15,
     "metadata": {},
     "output_type": "execute_result"
    }
   ],
   "source": [
    "import pyarrow as pa\n",
    "import pandas as pd\n",
    "\n",
    "df = pd.read_parquet('../geometry_files/raw_files/amc_pfcoils_M1.parquet', engine='fastparquet')\n",
    "\n",
    "\n",
    "# Define the fields\n",
    "name_field = pa.field(\"uda_name\", pa.string())\n",
    "circuit_field = pa.field(\"circuit_number\", pa.string())\n",
    "r_field = pa.field(\"r\", pa.float32(), metadata={\"units\": \"meter\"})\n",
    "z_field = pa.field(\"z\", pa.float32(), metadata={\"units\": \"meter\"})\n",
    "height_field = pa.field(\"height\", pa.float32(), metadata={\"units\": \"meter\"})\n",
    "width_field = pa.field(\"width\", pa.float32(), metadata={\"units\": \"meter\"})\n",
    "ang1_field = pa.field(\"ang1\", pa.float32(), metadata={\"units\": \"degree\"})\n",
    "ang2_field = pa.field(\"ang2\", pa.float32(), metadata={\"units\": \"degree\"})\n",
    "\n",
    "# Create the schema\n",
    "schema = pa.schema([name_field, circuit_field, r_field, z_field, height_field, width_field, ang1_field, ang2_field])\n",
    "\n",
    "names = pa.array(df['uda_name'].to_list())\n",
    "\n",
    "circuit_numbers = pa.array(df['circuit_number'].to_list())\n",
    "\n",
    "r = pa.array(df['r'].to_list())\n",
    "\n",
    "z = pa.array(df['z'].to_list())\n",
    "\n",
    "height = pa.array(df['height'].to_list())\n",
    "\n",
    "width = pa.array(df['wdith'].to_list())\n",
    "\n",
    "ang1 = pa.array(df['ang1'].to_list())\n",
    "\n",
    "ang2 = pa.array(df['ang2'].to_list())\n",
    "\n",
    "amc_pf_coil_m1 = pa.Table.from_arrays([names, circuit_numbers, r, z, height, width, ang1, ang2], schema=schema)\n",
    "amc_pf_coil_m1"
   ]
  },
  {
   "cell_type": "code",
   "execution_count": 18,
   "metadata": {},
   "outputs": [
    {
     "data": {
      "text/plain": [
       "pyarrow.Table\n",
       "uda_name: string\n",
       "circuit_number: string\n",
       "r: float\n",
       "z: float\n",
       "height: float\n",
       "width: float\n",
       "ang1: float\n",
       "ang2: float\n",
       "----\n",
       "uda_name: [[\"amm_p2udivpl1\",\"amm_p2udivpl2\",\"amm_p2udivpl3\",\"amm_p2udivpl4\",\"amm_p2udivpl5\",...,\"amm_rodgr11\",\"amm_rodgr12\",\"amm_rodgr13\",\"amm_rodgr14\",\"amm_rodgr15\"]]\n",
       "circuit_number: [[\"16\",\"17\",\"18\",\"19\",\"20\",...,\"93\",\"94\",\"95\",\"96\",\"97\"]]\n",
       "r: [[0.278,0.384,0.49,0.596,0.702,...,0.1907,0.1907,0.1944,0.1979,0.1981]]\n",
       "z: [[1.503,1.503,1.503,1.503,1.503,...,0.696,0.915,1.134,1.35,1.568]]\n",
       "height: [[0.106,0.106,0.106,0.106,0.106,...,0.013,0.013,0.02,0.028,0.028]]\n",
       "width: [[0.02,0.02,0.02,0.02,0.02,...,0.215,0.215,0.225,0.225,0.225]]\n",
       "ang1: [[0,0,0,0,0,...,0,0,0,0,0]]\n",
       "ang2: [[0,0,0,0,0,...,0,0,0,0,0]]"
      ]
     },
     "execution_count": 18,
     "metadata": {},
     "output_type": "execute_result"
    }
   ],
   "source": [
    "import pyarrow as pa\n",
    "import pandas as pd\n",
    "\n",
    "df = pd.read_parquet('../geometry_files/raw_files/amm_pfcoils_M1.parquet', engine='fastparquet')\n",
    "\n",
    "\n",
    "# Define the fields\n",
    "name_field = pa.field(\"uda_name\", pa.string())\n",
    "circuit_field = pa.field(\"circuit_number\", pa.string())\n",
    "r_field = pa.field(\"r\", pa.float32(), metadata={\"units\": \"meter\"})\n",
    "z_field = pa.field(\"z\", pa.float32(), metadata={\"units\": \"meter\"})\n",
    "height_field = pa.field(\"height\", pa.float32(), metadata={\"units\": \"meter\"})\n",
    "width_field = pa.field(\"width\", pa.float32(), metadata={\"units\": \"meter\"})\n",
    "ang1_field = pa.field(\"ang1\", pa.float32(), metadata={\"units\": \"degree\"})\n",
    "ang2_field = pa.field(\"ang2\", pa.float32(), metadata={\"units\": \"degree\"})\n",
    "\n",
    "# Create the schema\n",
    "schema = pa.schema([name_field, circuit_field, r_field, z_field, height_field, width_field, ang1_field, ang2_field])\n",
    "\n",
    "names = pa.array(df['uda_name'].to_list())\n",
    "\n",
    "circuit_numbers = pa.array(df['circuit_number'].to_list())\n",
    "\n",
    "r = pa.array(df['r'].to_list())\n",
    "\n",
    "z = pa.array(df['z'].to_list())\n",
    "\n",
    "height = pa.array(df['height'].to_list())\n",
    "\n",
    "width = pa.array(df['wdith'].to_list())\n",
    "\n",
    "ang1 = pa.array(df['ang1'].to_list())\n",
    "\n",
    "ang2 = pa.array(df['ang2'].to_list())\n",
    "\n",
    "amm_pf_coil_m1 = pa.Table.from_arrays([names, circuit_numbers, r, z, height, width, ang1, ang2], schema=schema)\n",
    "amm_pf_coil_m1"
   ]
  },
  {
   "cell_type": "code",
   "execution_count": 19,
   "metadata": {},
   "outputs": [],
   "source": [
    "import pyarrow.parquet as pq\n",
    "\n",
    "pq.write_table(amc_pf_coil_m1, '../geometry_files/amc_pfcoils_M1.parquet')\n",
    "pq.write_table(amm_pf_coil_m1, '../geometry_files/amm_pfcoils_M1.parquet')"
   ]
  },
  {
   "cell_type": "code",
   "execution_count": 68,
   "metadata": {},
   "outputs": [
    {
     "data": {
      "text/plain": [
       "pyarrow.Table\n",
       "uda_name: string\n",
       "circuit_number: string\n",
       "r: float\n",
       "z: float\n",
       "height: float\n",
       "width: float\n",
       "ang1: float\n",
       "ang2: float\n",
       "----\n",
       "uda_name: [[\"sol_current_1\",\"sol_current_2\",\"sol_current_3\",\"sol_current_4\",\"sol_current_5\",...,\"p6u_case_current\",\"p6l_case_current\",\"p6l_case_current\",\"p6l_case_current\",\"p6l_case_current\"]]\n",
       "circuit_number: [[\"1\",\"1\",\"1\",\"1\",\"1\",...,\"22\",\"23\",\"23\",\"23\",\"23\"]]\n",
       "r: [[0.119,0.1318126,0.1446252,0.1574378,0.119,...,1.4434305,1.4094306,1.4404305,1.4744304,1.4434305]]\n",
       "z: [[-1.4706064,-1.4706064,-1.4706064,-1.4706064,-1.452632,...,0.8240002,-0.8985002,-0.9760002,-0.9015002,-0.8240002]]\n",
       "height: [[0.0115,0.0115,0.0115,0.0115,0.0115,...,0.0649999,0.003,0.0649999,0.003,0.0649999]]\n",
       "width: [[0.017,0.017,0.017,0.017,0.017,...,0.003,-0.152,-0.003,-0.152,-0.003]]\n",
       "ang1: [[0,0,0,0,0,...,0,0,0,0,0]]\n",
       "ang2: [[0,0,0,0,0,...,0,0,0,0,0]]"
      ]
     },
     "execution_count": 68,
     "metadata": {},
     "output_type": "execute_result"
    }
   ],
   "source": [
    "import pyarrow as pa\n",
    "import pandas as pd\n",
    "\n",
    "df = pd.read_parquet('../geometry_files/raw_files/amc_pfcoils_M4.parquet', engine='fastparquet')\n",
    "df['uda_name'] = df['uda_name'].str.replace('amc_', '')\n",
    "\n",
    "# Define the fields\n",
    "name_field = pa.field(\"uda_name\", pa.string())\n",
    "circuit_field = pa.field(\"circuit_number\", pa.string())\n",
    "r_field = pa.field(\"r\", pa.float32(), metadata={\"units\": \"meter\"})\n",
    "z_field = pa.field(\"z\", pa.float32(), metadata={\"units\": \"meter\"})\n",
    "height_field = pa.field(\"height\", pa.float32(), metadata={\"units\": \"meter\"})\n",
    "width_field = pa.field(\"width\", pa.float32(), metadata={\"units\": \"meter\"})\n",
    "ang1_field = pa.field(\"ang1\", pa.float32(), metadata={\"units\": \"degree\"})\n",
    "ang2_field = pa.field(\"ang2\", pa.float32(), metadata={\"units\": \"degree\"})\n",
    "\n",
    "# Create the schema\n",
    "schema = pa.schema([name_field, circuit_field, r_field, z_field, height_field, width_field, ang1_field, ang2_field], metadata={\"source\": \"pfcoils.dat_M4\"})\n",
    "\n",
    "names = pa.array(df['uda_name'].to_list())\n",
    "\n",
    "circuit_numbers = pa.array(df['circuit_number'].to_list())\n",
    "\n",
    "r = pa.array(df['r'].to_list())\n",
    "\n",
    "z = pa.array(df['z'].to_list())\n",
    "\n",
    "height = pa.array(df['height'].to_list())\n",
    "\n",
    "width = pa.array(df['wdith'].to_list())\n",
    "\n",
    "ang1 = pa.array(df['ang1'].to_list())\n",
    "\n",
    "ang2 = pa.array(df['ang2'].to_list())\n",
    "\n",
    "amc_pf_coil_m4 = pa.Table.from_arrays([names, circuit_numbers, r, z, height, width, ang1, ang2], schema=schema)\n",
    "amc_pf_coil_m4"
   ]
  },
  {
   "cell_type": "code",
   "execution_count": 69,
   "metadata": {},
   "outputs": [
    {
     "data": {
      "text/plain": [
       "pyarrow.Table\n",
       "uda_name: string\n",
       "circuit_number: string\n",
       "r: float\n",
       "z: float\n",
       "height: float\n",
       "width: float\n",
       "ang1: float\n",
       "ang2: float\n",
       "----\n",
       "uda_name: [[\"vertw1\",\"vertw2\",\"vertw3\",\"vertw4\",\"vertw5\",...,\"mid8\",\"mid9\",\"mid10\",\"mid11\",\"mid12\"]]\n",
       "circuit_number: [[\"24\",\"25\",\"26\",\"27\",\"28\",...,\"97\",\"98\",\"99\",\"100\",\"101\"]]\n",
       "r: [[2.0099301,2.0099301,2.0099301,2.0099301,2.0099301,...,0.7916309,0.7897406,0.7897406,0.7916309,0.7897406]]\n",
       "z: [[1.82,1.3,0.78,0.26,-0.26,...,1.95,2.0101,-1.8885,-1.95,-2.0101]]\n",
       "height: [[0.0200001,0.0200001,0.0200001,0.0200001,0.0200001,...,0.0067091,0.1344112,0.1344112,0.0067091,0.1344112]]\n",
       "width: [[0.52,0.52,0.52,0.52,0.52,...,0.116,0.007,0.007,0.116,0.007]]\n",
       "ang1: [[0,0,0,0,0,...,0,0,0,0,0]]\n",
       "ang2: [[0,0,0,0,0,...,0,0,0,0,0]]"
      ]
     },
     "execution_count": 69,
     "metadata": {},
     "output_type": "execute_result"
    }
   ],
   "source": [
    "import pyarrow as pa\n",
    "import pandas as pd\n",
    "\n",
    "df = pd.read_parquet('../geometry_files/raw_files/amm_pfcoils_M4.parquet', engine='fastparquet')\n",
    "df['uda_name'] = df['uda_name'].str.replace('amm_', '')\n",
    "\n",
    "# Define the fields\n",
    "name_field = pa.field(\"uda_name\", pa.string())\n",
    "circuit_field = pa.field(\"circuit_number\", pa.string())\n",
    "r_field = pa.field(\"r\", pa.float32(), metadata={\"units\": \"meter\"})\n",
    "z_field = pa.field(\"z\", pa.float32(), metadata={\"units\": \"meter\"})\n",
    "height_field = pa.field(\"height\", pa.float32(), metadata={\"units\": \"meter\"})\n",
    "width_field = pa.field(\"width\", pa.float32(), metadata={\"units\": \"meter\"})\n",
    "ang1_field = pa.field(\"ang1\", pa.float32(), metadata={\"units\": \"degree\"})\n",
    "ang2_field = pa.field(\"ang2\", pa.float32(), metadata={\"units\": \"degree\"})\n",
    "\n",
    "# Create the schema\n",
    "schema = pa.schema([name_field, circuit_field, r_field, z_field, height_field, width_field, ang1_field, ang2_field])\n",
    "\n",
    "names = pa.array(df['uda_name'].to_list())\n",
    "\n",
    "circuit_numbers = pa.array(df['circuit_number'].to_list())\n",
    "\n",
    "r = pa.array(df['r'].to_list())\n",
    "\n",
    "z = pa.array(df['z'].to_list())\n",
    "\n",
    "height = pa.array(df['height'].to_list())\n",
    "\n",
    "width = pa.array(df['wdith'].to_list())\n",
    "\n",
    "ang1 = pa.array(df['ang1'].to_list())\n",
    "\n",
    "ang2 = pa.array(df['ang2'].to_list())\n",
    "\n",
    "amm_pf_coil_m4 = pa.Table.from_arrays([names, circuit_numbers, r, z, height, width, ang1, ang2], schema=schema)\n",
    "amm_pf_coil_m4"
   ]
  },
  {
   "cell_type": "code",
   "execution_count": 70,
   "metadata": {},
   "outputs": [],
   "source": [
    "import pyarrow.parquet as pq\n",
    "\n",
    "pq.write_table(amc_pf_coil_m4, '../geometry_files/amc_pfcoils_M4.parquet')\n",
    "pq.write_table(amm_pf_coil_m4, '../geometry_files/amm_pfcoils_M4.parquet')"
   ]
  },
  {
   "cell_type": "markdown",
   "metadata": {},
   "source": [
    "## M1/M4 DETECTORS (MAGNETIC)"
   ]
  },
  {
   "cell_type": "code",
   "execution_count": 8,
   "metadata": {},
   "outputs": [
    {
     "data": {
      "text/plain": [
       "pyarrow.Table\n",
       "uda_name: string\n",
       "r: float\n",
       "z: float\n",
       "poloidal_orientation: float\n",
       "length: float\n",
       "----\n",
       "uda_name: [[\"amb_ccbv01\",\"amb_ccbv02\",\"amb_ccbv03\",\"amb_ccbv04\",\"amb_ccbv05\",...,\"amb_obr15\",\"amb_obr16\",\"amb_obr17\",\"amb_obr18\",\"amb_obr19\"]]\n",
       "r: [[0.1803,0.1803,0.1803,0.1803,0.1803,...,1.5913,1.5913,1.5913,1.4401,1.4401]]\n",
       "z: [[1.44512,1.36887,1.29262,1.21637,1.14012,...,-0.6453,-0.7203,-0.7953,-1.2476,-1.3226]]\n",
       "poloidal_orientation: [[90,90,90,90,90,...,0,0,0,0,0]]\n",
       "length: [[0.025,0.025,0.025,0.025,0.025,...,0.01,0.01,0.01,0.01,0.01]]"
      ]
     },
     "execution_count": 8,
     "metadata": {},
     "output_type": "execute_result"
    }
   ],
   "source": [
    "import pyarrow as pa\n",
    "import pandas as pd\n",
    "\n",
    "df = pd.read_parquet('../geometry_files/raw_files/magnetic_detectors_M1.parquet', engine='fastparquet')\n",
    "\n",
    "# Define the fields\n",
    "name_field = pa.field(\"uda_name\", pa.string())\n",
    "r_field = pa.field(\"r\", pa.float32(), metadata={\"units\": \"meter\"})\n",
    "z_field = pa.field(\"z\", pa.float32(), metadata={\"units\": \"meter\"})\n",
    "poloidal_orientation_field = pa.field(\"poloidal_orientation\", pa.float32(), metadata={\"units\": \"degree\"})\n",
    "length_field = pa.field(\"length\", pa.float32(), metadata={\"units\": \"meter\"})\n",
    "\n",
    "\n",
    "# Create the schema\n",
    "schema = pa.schema([name_field, r_field, z_field, poloidal_orientation_field, length_field])\n",
    "\n",
    "names = pa.array(df['name'].to_list())\n",
    "\n",
    "r = pa.array(df['r'].to_list())\n",
    "\n",
    "z = pa.array(df['z'].to_list())\n",
    "\n",
    "poloidal_orientation = pa.array(df['poloidal_orientation'].to_list())\n",
    "\n",
    "length = pa.array(df['length'].to_list())\n",
    "\n",
    "\n",
    "magnetic_detectors_m1 = pa.Table.from_arrays([names, r, z, poloidal_orientation, length], schema=schema)\n",
    "magnetic_detectors_m1"
   ]
  },
  {
   "cell_type": "code",
   "execution_count": 30,
   "metadata": {},
   "outputs": [
    {
     "data": {
      "text/plain": [
       "pyarrow.Table\n",
       "uda_name: string\n",
       "r: float\n",
       "z: float\n",
       "poloidal_angle: float\n",
       "length: float\n",
       "----\n",
       "uda_name: [[\"amb_p2ubr1\",\"amb_p2ubr2\",\"amb_p2ubr3\",\"amb_p2ubr4\",\"amb_p2ubr5\",\"amb_p2ubr6\",\"amb_p2ubr7\",\"amb_p2ubr8\"]]\n",
       "r: [[0.302,0.3535,0.405,0.4565,0.5575,0.609,0.6615,0.712]]\n",
       "z: [[1.42,1.42,1.42,1.42,1.42,1.42,1.42,1.42]]\n",
       "poloidal_angle: [[0,0,0,0,0,0,0,0]]\n",
       "length: [[0.035,0.035,0.035,0.035,0.035,0.035,0.035,0.035]]"
      ]
     },
     "execution_count": 30,
     "metadata": {},
     "output_type": "execute_result"
    }
   ],
   "source": [
    "# Define the fields\n",
    "name_field = pa.field(\"uda_name\", pa.string())\n",
    "r_field = pa.field(\"r\", pa.float32(), metadata={\"units\": \"meter\"})\n",
    "z_field = pa.field(\"z\", pa.float32(), metadata={\"units\": \"meter\"})\n",
    "poloidal_orientation_field = pa.field(\"poloidal_angle\", pa.float32(), metadata={\"units\": \"degree\"})\n",
    "length_field = pa.field(\"length\", pa.float32(), metadata={\"units\": \"meter\"})\n",
    "\n",
    "\n",
    "# Create the schema\n",
    "schema = pa.schema([name_field, r_field, z_field, poloidal_orientation_field, length_field])\n",
    "\n",
    "names = pa.array(['amb_p2ubr1', 'amb_p2ubr2', 'amb_p2ubr3', 'amb_p2ubr4', 'amb_p2ubr5', 'amb_p2ubr6', 'amb_p2ubr7', 'amb_p2ubr8'])\n",
    "\n",
    "r = pa.array([0.302, 0.3535, 0.405, 0.4565, 0.5575, 0.609, 0.6615, 0.712])\n",
    "\n",
    "z = pa.array([1.42, 1.42, 1.42, 1.42, 1.42, 1.42, 1.42, 1.42])\n",
    "\n",
    "poloidal_orientation = pa.array([0] * len(names))\n",
    "\n",
    "length = pa.array([0.035] * len(names))\n",
    "\n",
    "\n",
    "p2u = pa.Table.from_arrays([names, r, z, poloidal_orientation, length], schema=schema)\n",
    "p2u\n",
    "\n",
    "import pyarrow.parquet as pq\n",
    "\n",
    "pq.write_table(p2u, 'geometry_files/p2u.parquet')"
   ]
  },
  {
   "cell_type": "code",
   "execution_count": 60,
   "metadata": {},
   "outputs": [],
   "source": [
    "import pyarrow.parquet as pq\n",
    "\n",
    "pq.write_table(magnetic_detectors_m1, 'geometry_files/magnetic_detectors_M1.parquet')"
   ]
  },
  {
   "cell_type": "code",
   "execution_count": 32,
   "metadata": {},
   "outputs": [
    {
     "data": {
      "text/plain": [
       "pyarrow.Table\n",
       "uda_name: string\n",
       "r: float\n",
       "z: float\n",
       "poloidal_orientation: float\n",
       "length: float\n",
       "----\n",
       "uda_name: [[\"amb_ccbv01\",\"amb_ccbv02\",\"amb_ccbv03\",\"amb_ccbv04\",\"amb_ccbv05\",...,\"amb_obr15\",\"amb_obr16\",\"amb_obr17\",\"amb_obr18\",\"amb_obr19\"]]\n",
       "r: [[0.1803,0.1803,0.1803,0.1803,0.1803,...,1.5913,1.5913,1.5913,1.4401,1.4401]]\n",
       "z: [[1.44875,1.3725,1.29625,1.22,1.14375,...,-0.64038,-0.71538,-0.79038,-1.26017,-1.33517]]\n",
       "poloidal_orientation: [[90,90,90,90,90,...,0,0,0,0,0]]\n",
       "length: [[0.025,0.025,0.025,0.025,0.025,...,0.01,0.01,0.01,0.01,0.01]]"
      ]
     },
     "execution_count": 32,
     "metadata": {},
     "output_type": "execute_result"
    }
   ],
   "source": [
    "import pyarrow as pa\n",
    "import pandas as pd\n",
    "\n",
    "df = pd.read_parquet('../geometry_files/raw_files/magnetic_detectors_M4.parquet', engine='fastparquet')\n",
    "\n",
    "# Define the fields\n",
    "name_field = pa.field(\"uda_name\", pa.string())\n",
    "r_field = pa.field(\"r\", pa.float32(), metadata={\"units\": \"meter\"})\n",
    "z_field = pa.field(\"z\", pa.float32(), metadata={\"units\": \"meter\"})\n",
    "poloidal_orientation_field = pa.field(\"poloidal_orientation\", pa.float32(), metadata={\"units\": \"degree\"})\n",
    "length_field = pa.field(\"length\", pa.float32(), metadata={\"units\": \"meter\"})\n",
    "\n",
    "\n",
    "# Create the schema\n",
    "schema = pa.schema([name_field, r_field, z_field, poloidal_orientation_field, length_field])\n",
    "\n",
    "names = pa.array(df['name'].to_list())\n",
    "\n",
    "r = pa.array(df['r'].to_list())\n",
    "\n",
    "z = pa.array(df['z'].to_list())\n",
    "\n",
    "poloidal_orientation = pa.array(df['poloidal_orientation'].to_list())\n",
    "\n",
    "length = pa.array(df['length'].to_list())\n",
    "\n",
    "\n",
    "magnetic_detectors_m4 = pa.Table.from_arrays([names, r, z, poloidal_orientation, length], schema=schema)\n",
    "magnetic_detectors_m4"
   ]
  },
  {
   "cell_type": "code",
   "execution_count": 62,
   "metadata": {},
   "outputs": [],
   "source": [
    "import pyarrow.parquet as pq\n",
    "\n",
    "pq.write_table(magnetic_detectors_m1, 'geometry_files/magnetic_detectors_M4.parquet')"
   ]
  },
  {
   "cell_type": "markdown",
   "metadata": {},
   "source": [
    "## M1/M4 DETECTORS (FLUX LOOP)"
   ]
  },
  {
   "cell_type": "code",
   "execution_count": 2,
   "metadata": {},
   "outputs": [
    {
     "data": {
      "text/plain": [
       "pyarrow.Table\n",
       "uda_name: string\n",
       "r: float\n",
       "z: float\n",
       "toroidal_length: float\n",
       "----\n",
       "uda_name: [[\"amb_fl/cc01\",\"amb_fl/cc02\",\"amb_fl/cc03\",\"amb_fl/cc04\",\"amb_fl/cc05\",...,\"amb_fl/p5l/2\",\"amb_fl/p5l/3\",\"amb_fl/p5l/4\",\"amb_fl/p6l/1\",\"amb_fl/p6l/2\"]]\n",
       "r: [[0.1785,0.1785,0.1785,0.1785,0.1785,...,1.7463,1.7463,1.5495,1.4025,1.4025]]\n",
       "z: [[1.2349,0.9299,0.6249,0.3199,0.0149,...,-0.45724,-0.53224,-0.54724,-0.8876,-0.9026]]\n",
       "toroidal_length: [[6.2831855,6.2831855,6.2831855,6.2831855,6.2831855,...,6.2831855,6.2831855,6.2831855,6.2831855,6.2831855]]"
      ]
     },
     "execution_count": 2,
     "metadata": {},
     "output_type": "execute_result"
    }
   ],
   "source": [
    "import pyarrow as pa\n",
    "import pandas as pd\n",
    "\n",
    "df = pd.read_parquet('../geometry_files/raw_files/flux_loop_detectors_M1.parquet', engine='fastparquet')\n",
    "df['toroidal_length'] = 6.283185307180\n",
    "\n",
    "# Define the fields\n",
    "name_field = pa.field(\"uda_name\", pa.string())\n",
    "r_field = pa.field(\"r\", pa.float32(), metadata={\"units\": \"meter\"})\n",
    "z_field = pa.field(\"z\", pa.float32(), metadata={\"units\": \"meter\"})\n",
    "length_in_toroidal_field = pa.field(\"toroidal_length\", pa.float32(), metadata={\"units\": \"rad\", \"description\": \"length in terms of toroidal direction\"})\n",
    "\n",
    "\n",
    "# Create the schema\n",
    "schema = pa.schema([name_field, r_field, z_field, length_in_toroidal_field])\n",
    "\n",
    "names = pa.array(df['name'].to_list())\n",
    "\n",
    "r = pa.array(df['r'].to_list())\n",
    "\n",
    "z = pa.array(df['z'].to_list())\n",
    "\n",
    "toroidal_length = pa.array(df['toroidal_length'].to_list())\n",
    "\n",
    "\n",
    "flux_detectors_m1 = pa.Table.from_arrays([names, r, z, toroidal_length], schema=schema)\n",
    "flux_detectors_m1"
   ]
  },
  {
   "cell_type": "code",
   "execution_count": 4,
   "metadata": {},
   "outputs": [],
   "source": [
    "import pyarrow.parquet as pq\n",
    "\n",
    "pq.write_table(flux_detectors_m1, '../geometry_files/flux_detectors_M1.parquet')"
   ]
  },
  {
   "cell_type": "code",
   "execution_count": 5,
   "metadata": {},
   "outputs": [
    {
     "data": {
      "text/plain": [
       "pyarrow.Table\n",
       "uda_name: string\n",
       "r: float\n",
       "z: float\n",
       "toroidal_length: float\n",
       "----\n",
       "uda_name: [[\"amb_fl/cc01\",\"amb_fl/cc02\",\"amb_fl/cc03\",\"amb_fl/cc04\",\"amb_fl/cc05\",...,\"amb_fl/p5l/2\",\"amb_fl/p5l/3\",\"amb_fl/p5l/4\",\"amb_fl/p6l/1\",\"amb_fl/p6l/2\"]]\n",
       "r: [[0.1785,0.1785,0.1785,0.1785,0.1785,...,1.7463,1.7463,1.5495,1.4025,1.4025]]\n",
       "z: [[1.2349,0.9299,0.6249,0.3199,0.0149,...,-0.45724,-0.53224,-0.54724,-0.8876,-0.9026]]\n",
       "toroidal_length: [[6.2831855,6.2831855,6.2831855,6.2831855,6.2831855,...,6.2831855,6.2831855,6.2831855,6.2831855,6.2831855]]"
      ]
     },
     "execution_count": 5,
     "metadata": {},
     "output_type": "execute_result"
    }
   ],
   "source": [
    "import pyarrow as pa\n",
    "import pandas as pd\n",
    "\n",
    "df = pd.read_parquet('../geometry_files/raw_files/flux_loop_detectors_M4.parquet', engine='fastparquet')\n",
    "df['toroidal_length'] = 6.283185307180\n",
    "\n",
    "# Define the fields\n",
    "name_field = pa.field(\"uda_name\", pa.string())\n",
    "r_field = pa.field(\"r\", pa.float32(), metadata={\"units\": \"meter\"})\n",
    "z_field = pa.field(\"z\", pa.float32(), metadata={\"units\": \"meter\"})\n",
    "length_in_toroidal_field = pa.field(\"toroidal_length\", pa.float32(), metadata={\"units\": \"rad\", \"description\": \"length in terms of toroidal direction\"})\n",
    "\n",
    "\n",
    "# Create the schema\n",
    "schema = pa.schema([name_field, r_field, z_field, length_in_toroidal_field])\n",
    "\n",
    "names = pa.array(df['name'].to_list())\n",
    "\n",
    "r = pa.array(df['r'].to_list())\n",
    "\n",
    "z = pa.array(df['z'].to_list())\n",
    "\n",
    "toroidal_length = pa.array(df['toroidal_length'].to_list())\n",
    "\n",
    "\n",
    "flux_detectors_m4 = pa.Table.from_arrays([names, r, z, toroidal_length], schema=schema)\n",
    "flux_detectors_m4"
   ]
  },
  {
   "cell_type": "code",
   "execution_count": 6,
   "metadata": {},
   "outputs": [],
   "source": [
    "import pyarrow.parquet as pq\n",
    "\n",
    "pq.write_table(flux_detectors_m4, '../geometry_files/flux_detectors_M4.parquet')"
   ]
  },
  {
   "cell_type": "markdown",
   "metadata": {},
   "source": [
    "## CURRENT DETECTORS (M1)"
   ]
  },
  {
   "cell_type": "code",
   "execution_count": 67,
   "metadata": {},
   "outputs": [
    {
     "data": {
      "text/plain": [
       "pyarrow.Table\n",
       "uda_name: string\n",
       "r: float\n",
       "z: float\n",
       "angle: float\n",
       "----\n",
       "uda_name: [[\"AMC_Plasma_Current\",\"AMC_Plasma_Current\",\"AMC_Plasma_Current\",\"AMC_Plasma_Current\",\"AMC_Plasma_Current\",...,\"AMC_P4l_Current\",\"AMC_P5l_Current\",\"AMC_P5l_Current\",\"AMC_P6l_Current\",\"AMC_P6l_Current\"]]\n",
       "r: [[nan,nan,nan,nan,nan,...,1.4681,1.6403,1.6403,1.4367,1.4367]]\n",
       "z: [[nan,nan,nan,nan,nan,...,-1.109,-0.5053,-0.5053,-0.8951,-0.8951]]\n",
       "angle: [[330,330,330,330,270,...,180,360,180,360,180]]"
      ]
     },
     "execution_count": 67,
     "metadata": {},
     "output_type": "execute_result"
    }
   ],
   "source": [
    "import pyarrow as pa\n",
    "import pandas as pd\n",
    "import numpy as np\n",
    "\n",
    "df = pd.read_parquet('geometry_files/raw_files/current_detectors_M1.parquet', engine='fastparquet')\n",
    "# Replace \"-\" with NaN\n",
    "df.replace(\"-\", np.nan, inplace=True)\n",
    "df['r'] = pd.to_numeric(df['r'], errors='coerce')\n",
    "df['z'] = pd.to_numeric(df['z'], errors='coerce')\n",
    "df['angle'] = pd.to_numeric(df['angle'], errors='coerce')\n",
    "\n",
    "# Define the fields\n",
    "name_field = pa.field(\"uda_name\", pa.string())\n",
    "r_field = pa.field(\"r\", pa.float32(), metadata={\"units\": \"meter\"})\n",
    "z_field = pa.field(\"z\", pa.float32(), metadata={\"units\": \"meter\"})\n",
    "angle_field = pa.field(\"angle\", pa.float32(), metadata={\"units\": \"degree\"})\n",
    "\n",
    "\n",
    "# Create the schema\n",
    "schema = pa.schema([name_field, r_field, z_field, angle_field])\n",
    "\n",
    "names = pa.array(df['name'].to_list())\n",
    "\n",
    "r = pa.array(df['r'].to_list())\n",
    "\n",
    "z = pa.array(df['z'].to_list())\n",
    "\n",
    "angle = pa.array(df['angle'].to_list())\n",
    "\n",
    "\n",
    "current_detectors_m1 = pa.Table.from_arrays([names, r, z, angle], schema=schema)\n",
    "current_detectors_m1"
   ]
  },
  {
   "cell_type": "code",
   "execution_count": 68,
   "metadata": {},
   "outputs": [],
   "source": [
    "import pyarrow.parquet as pq\n",
    "\n",
    "pq.write_table(current_detectors_m1, 'geometry_files/current_detectors_M1.parquet')"
   ]
  }
 ],
 "metadata": {
  "kernelspec": {
   "display_name": "venv",
   "language": "python",
   "name": "python3"
  },
  "language_info": {
   "codemirror_mode": {
    "name": "ipython",
    "version": 3
   },
   "file_extension": ".py",
   "mimetype": "text/x-python",
   "name": "python",
   "nbconvert_exporter": "python",
   "pygments_lexer": "ipython3",
   "version": "3.13.0"
  }
 },
 "nbformat": 4,
 "nbformat_minor": 2
}
