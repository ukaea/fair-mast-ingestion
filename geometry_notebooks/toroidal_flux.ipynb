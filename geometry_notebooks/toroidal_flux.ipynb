{
 "cells": [
  {
   "cell_type": "markdown",
   "metadata": {},
   "source": [
    "## Toroidal Flux Loops\n",
    "\n"
   ]
  },
  {
   "cell_type": "code",
   "execution_count": 2,
   "metadata": {},
   "outputs": [
    {
     "data": {
      "text/plain": [
       "pyarrow.Table\n",
       "uda_name: string\n",
       "r: float\n",
       "z: float\n",
       "----\n",
       "uda_name: [[\"AMB_FL/CC01\",\"AMB_FL/CC02\",\"AMB_FL/CC03\",\"AMB_FL/CC04\",\"AMB_FL/CC05\",...,\"AMB_FL/P5L/2\",\"AMB_FL/P5L/3\",\"AMB_FL/P5L/4\",\"AMB_FL/P6L/1\",\"AMB_FL/P6L/2\"]]\n",
       "r: [[0.1785,0.1785,0.1785,0.1785,0.1785,...,1.7493,1.5458,1.5458,1.4025,1.4025]]\n",
       "z: [[1.2349,0.9299,0.6249,0.3199,0.0149,...,-0.45724,-0.53224,-0.54724,-0.8876,-0.9026]]"
      ]
     },
     "execution_count": 2,
     "metadata": {},
     "output_type": "execute_result"
    }
   ],
   "source": [
    "import pyarrow as pa\n",
    "\n",
    "# Define the fields\n",
    "name_field = pa.field(\"uda_name\", pa.string())\n",
    "r_field = pa.field(\"r\", pa.float32(), metadata={\"units\": \"meter\"})\n",
    "z_field = pa.field(\"z\", pa.float32(), metadata={\"units\": \"meter\"})\n",
    "\n",
    "# Create the schema\n",
    "schema = pa.schema([name_field, r_field, z_field])\n",
    "\n",
    "# Create PyArrow arrays for each field\n",
    "names = pa.array([\n",
    "        \"AMB_FL/CC01\",\n",
    "        \"AMB_FL/CC02\",\n",
    "        \"AMB_FL/CC03\",\n",
    "        \"AMB_FL/CC04\",\n",
    "        \"AMB_FL/CC05\",\n",
    "        \"AMB_FL/CC06\",\n",
    "        \"AMB_FL/CC07\",\n",
    "        \"AMB_FL/CC08\",\n",
    "        \"AMB_FL/CC09\",\n",
    "        \"AMB_FL/CC010\",\n",
    "        \"AMB_FL/P2U/1\",\n",
    "        \"AMB_FL/P2U/2\",\n",
    "        \"AMB_FL/P2U/3\",\n",
    "        \"AMB_FL/P2U/4\",\n",
    "        \"AMB_FL/P3U/1\",\n",
    "        \"AMB_FL/P3U/2\",\n",
    "        \"AMB_FL/P3U/3\",\n",
    "        \"AMB_FL/P3U/4\",\n",
    "        \"AMB_FL/P4U/1\",\n",
    "        \"AMB_FL/P4U/2\",\n",
    "        \"AMB_FL/P4U/3\",\n",
    "        \"AMB_FL/P4U/4\",\n",
    "        \"AMB_FL/P5U/1\",\n",
    "        \"AMB_FL/P5U/2\",\n",
    "        \"AMB_FL/P5U/3\",\n",
    "        \"AMB_FL/P5U/4\",\n",
    "        \"AMB_FL/P2L/1\",\n",
    "        \"AMB_FL/P2L/2\",\n",
    "        \"AMB_FL/P2L/3\",\n",
    "        \"AMB_FL/P2L/4\",\n",
    "        \"AMB_FL/P3L/1\",\n",
    "        \"AMB_FL/P3L/2\",\n",
    "        \"AMB_FL/P3L/3\",\n",
    "        \"AMB_FL/P3L/4\",\n",
    "        \"AMB_FL/P4L/1\",\n",
    "        \"AMB_FL/P4L/2\",\n",
    "        \"AMB_FL/P4L/3\",\n",
    "        \"AMB_FL/P4L/4\",\n",
    "        \"AMB_FL/P5L/1\",\n",
    "        \"AMB_FL/P5L/2\",\n",
    "        \"AMB_FL/P5L/3\",\n",
    "        \"AMB_FL/P5L/4\",\n",
    "        \"AMB_FL/P6L/1\",\n",
    "        \"AMB_FL/P6L/2\"\n",
    "    ])\n",
    "\n",
    "r = pa.array([\n",
    "        0.1785, 0.1785, 0.1785, 0.1785, 0.1785, 0.1785, 0.1785, 0.1785, 0.1785, 0.1785, 0.4450, 0.5001, 0.5660, 0.6617, 1.1630, 1.163, 1.0354, 1.0354, 1.5930, 1.5930, 1.4001, 1.4001, 1.7493, 1.7493, 1.5458, 1.5458, 0.4450, 0.5001, 0.5660, 0.6617, 1.1630, 1.163, 1.0354, 1.0354, 1.1630, 1.163, 1.0354, 1.0354, 1.7493, 1.7493, 1.5458, 1.5458, 1.4025, 1.4025\n",
    "    ])\n",
    "\n",
    "z = pa.array([\n",
    "        1.23490, 0.92990, 0.62490, 0.31990, 0.01490, -0.01810, -0.32310, -0.62810, -0.93310, -1.23810, 1.57800, 1.57800, 1.57800, 1.64739, 1.08259, 1.09750, 1.09759, 1.08309, 1.04079, 1.05579, 1.16579, 1.15079, 0.44221, 0.45721, 0.56420, 0.54920, -1.57800, -1.57800, -1.57800, -1.64739, -1.08259, -1.10360, -1.10360, -1.08309, -1.08259, -1.10360, -1.10360, -1.08309, -0.44224, -0.45724, -0.53224, -0.54724, -0.88760, -0.90260\n",
    "    ])\n",
    "\n",
    "\n",
    "toroidal_flux_loops = pa.Table.from_arrays([names, r, z], schema=schema)\n",
    "toroidal_flux_loops"
   ]
  },
  {
   "cell_type": "code",
   "execution_count": 3,
   "metadata": {},
   "outputs": [],
   "source": [
    "import pyarrow.parquet as pq\n",
    "\n",
    "pq.write_table(toroidal_flux_loops, '../geometry_files/toroidal_flux.parquet')"
   ]
  }
 ],
 "metadata": {
  "kernelspec": {
   "display_name": "venv",
   "language": "python",
   "name": "python3"
  },
  "language_info": {
   "codemirror_mode": {
    "name": "ipython",
    "version": 3
   },
   "file_extension": ".py",
   "mimetype": "text/x-python",
   "name": "python",
   "nbconvert_exporter": "python",
   "pygments_lexer": "ipython3",
   "version": "3.13.0"
  }
 },
 "nbformat": 4,
 "nbformat_minor": 2
}
