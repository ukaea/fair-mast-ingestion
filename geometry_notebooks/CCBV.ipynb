{
 "cells": [
  {
   "cell_type": "markdown",
   "metadata": {},
   "source": [
    "## CCBVs -Centre Column Vertical Bv Arrays\n",
    "- The Center Column Vertical Bv Array (CCBVs) consists of 2 two sets of 40 Bv coils at sectors 5 & 11 (150 degrees, 330 degrees) \n",
    "- Radial position of coils R=0.1806m\n",
    "\n",
    "2 lots of 40 coils, one at 150 degrees and one at 330 degrees."
   ]
  },
  {
   "cell_type": "code",
   "execution_count": 5,
   "metadata": {},
   "outputs": [
    {
     "data": {
      "text/plain": [
       "pyarrow.Table\n",
       "uda_name: string\n",
       "z: float\n",
       "toroidal_angle1: int32\n",
       "toroidal_angle2: int32\n",
       "r: float\n",
       "----\n",
       "uda_name: [[\"xma_ccbv01\",\"xma_ccbv02\",\"xma_ccbv03\",\"xma_ccbv04\",\"xma_ccbv05\",...,\"xma_ccbv36\",\"xma_ccbv37\",\"xma_ccbv38\",\"xma_ccbv39\",\"xma_ccbv40\"]]\n",
       "z: [[1.44875,1.3725,1.29625,1.22,1.14375,...,-1.22,-1.29625,-1.3725,-1.44875,-1.525]]\n",
       "toroidal_angle1: [[150,150,150,150,150,...,150,150,150,150,150]]\n",
       "toroidal_angle2: [[330,330,330,330,330,...,330,330,330,330,330]]\n",
       "r: [[0.1806,0.1806,0.1806,0.1806,0.1806,...,0.1806,0.1806,0.1806,0.1806,0.1806]]"
      ]
     },
     "execution_count": 5,
     "metadata": {},
     "output_type": "execute_result"
    }
   ],
   "source": [
    "import pyarrow as pa\n",
    "\n",
    "# Define the fields\n",
    "name_field = pa.field(\"uda_name\", pa.string())\n",
    "z_field = pa.field(\"z\", pa.float32(), metadata={\"units\": \"meter\"})\n",
    "toroidal_angle1_field = pa.field(\"toroidal_angle1\", pa.int32(), metadata={\"units\": \"degree\"})\n",
    "toroidal_angle2_field = pa.field(\"toroidal_angle2\", pa.int32(), metadata={\"units\": \"degree\"})\n",
    "r_field = pa.field(\"r\", pa.float32(), metadata={\"units\": \"meter\"})\n",
    "\n",
    "# Create the schema\n",
    "schema = pa.schema([name_field, z_field, toroidal_angle1_field, toroidal_angle2_field, r_field])\n",
    "\n",
    "# Create PyArrow arrays for each field\n",
    "names = pa.array([\n",
    "        \"xma_ccbv01\",\n",
    "        \"xma_ccbv02\",\n",
    "        \"xma_ccbv03\",\n",
    "        \"xma_ccbv04\",\n",
    "        \"xma_ccbv05\",\n",
    "        \"xma_ccbv06\",\n",
    "        \"xma_ccbv07\",\n",
    "        \"xma_ccbv08\",\n",
    "        \"xma_ccbv09\",\n",
    "        \"xma_ccbv10\",\n",
    "        \"xma_ccbv11\",\n",
    "        \"xma_ccbv12\",\n",
    "        \"xma_ccbv13\",\n",
    "        \"xma_ccbv14\",\n",
    "        \"xma_ccbv15\",\n",
    "        \"xma_ccbv16\",\n",
    "        \"xma_ccbv17\",\n",
    "        \"xma_ccbv18\",\n",
    "        \"xma_ccbv19\",\n",
    "        \"xma_ccbv20\",\n",
    "        \"xma_ccbv21\",\n",
    "        \"xma_ccbv22\",\n",
    "        \"xma_ccbv23\",\n",
    "        \"xma_ccbv24\",\n",
    "        \"xma_ccbv25\",\n",
    "        \"xma_ccbv26\",\n",
    "        \"xma_ccbv27\",\n",
    "        \"xma_ccbv28\",\n",
    "        \"xma_ccbv29\",\n",
    "        \"xma_ccbv30\",\n",
    "        \"xma_ccbv31\",\n",
    "        \"xma_ccbv32\",\n",
    "        \"xma_ccbv33\",\n",
    "        \"xma_ccbv34\",\n",
    "        \"xma_ccbv35\",\n",
    "        \"xma_ccbv36\",\n",
    "        \"xma_ccbv37\",\n",
    "        \"xma_ccbv38\",\n",
    "        \"xma_ccbv39\",\n",
    "        \"xma_ccbv40\"\n",
    "    ])\n",
    "\n",
    "z = pa.array([\n",
    "        1.44875,\n",
    "        1.3725,\n",
    "        1.29625,\n",
    "        1.220,\n",
    "        1.14375,\n",
    "        1.0675,\n",
    "        0.99125,\n",
    "        0.915,\n",
    "        0.83875,\n",
    "        0.7625,\n",
    "        0.68625,\n",
    "        0.610,\n",
    "        0.53375,\n",
    "        0.4575,\n",
    "        0.38125,\n",
    "        0.305,\n",
    "        0.22875,\n",
    "        0.1525,\n",
    "        0.07625,\n",
    "        0.0,\n",
    "        -0.07625,\n",
    "        -0.1525,\n",
    "        -0.22875,\n",
    "        -0.305,\n",
    "        -0.38125,\n",
    "        -0.4575,\n",
    "        -0.38125,\n",
    "        -0.610,\n",
    "        -0.68625,\n",
    "        -0.7625,\n",
    "        -0.83875,\n",
    "        -0.915,\n",
    "        -0.99125,\n",
    "        -1.0675,\n",
    "        -1.14375,\n",
    "        -1.220,\n",
    "        -1.29625,\n",
    "        -1.3725,\n",
    "        -1.44875,\n",
    "        -1.525\n",
    "    ])\n",
    "\n",
    "toroidal_angle1 = pa.array([150] * len(names))\n",
    "toroidal_angle2 = pa.array([330] * len(names))\n",
    "r = pa.array([0.1806] * len(names))\n",
    "\n",
    "\n",
    "\n",
    "ccbv = pa.Table.from_arrays([names, z, toroidal_angle1, toroidal_angle2, r], schema=schema)\n",
    "ccbv"
   ]
  },
  {
   "cell_type": "code",
   "execution_count": 6,
   "metadata": {},
   "outputs": [
    {
     "data": {
      "text/plain": [
       "uda_name: string\n",
       "z: float\n",
       "  -- field metadata --\n",
       "  units: 'meter'\n",
       "toroidal_angle1: int32\n",
       "  -- field metadata --\n",
       "  units: 'degree'\n",
       "toroidal_angle2: int32\n",
       "  -- field metadata --\n",
       "  units: 'degree'\n",
       "r: float\n",
       "  -- field metadata --\n",
       "  units: 'meter'"
      ]
     },
     "execution_count": 6,
     "metadata": {},
     "output_type": "execute_result"
    }
   ],
   "source": [
    "ccbv.schema"
   ]
  },
  {
   "cell_type": "code",
   "execution_count": 10,
   "metadata": {},
   "outputs": [],
   "source": [
    "import pyarrow.parquet as pq\n",
    "\n",
    "pq.write_table(ccbv, '../geometry_files/ccbv.parquet')"
   ]
  }
 ],
 "metadata": {
  "kernelspec": {
   "display_name": "venv",
   "language": "python",
   "name": "python3"
  },
  "language_info": {
   "codemirror_mode": {
    "name": "ipython",
    "version": 3
   },
   "file_extension": ".py",
   "mimetype": "text/x-python",
   "name": "python",
   "nbconvert_exporter": "python",
   "pygments_lexer": "ipython3",
   "version": "3.13.0"
  }
 },
 "nbformat": 4,
 "nbformat_minor": 2
}
