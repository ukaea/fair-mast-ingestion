{
 "cells": [
  {
   "cell_type": "markdown",
   "metadata": {},
   "source": [
    "## CCMV - Centre Column Vertical Array of Bv Mirnovs"
   ]
  },
  {
   "cell_type": "markdown",
   "metadata": {},
   "source": [
    "- The Center Column Vertical Mirnov Array (CCMVs) consists of a set of 40 Mirnov coils at sector 9 (270 degrees) located under the center column graphite armour.\n",
    "- Radial position of coils R=0.1806m"
   ]
  },
  {
   "cell_type": "code",
   "execution_count": 12,
   "metadata": {},
   "outputs": [
    {
     "data": {
      "text/plain": [
       "pyarrow.Table\n",
       "uda_name: string\n",
       "z: float\n",
       "toroidal_angle: int32\n",
       "r: float\n",
       "----\n",
       "uda_name: [[\"xmb_cc/mv/201\",\"xmb_cc/mv/202*\",\"xmb_cc/mv/203*\",\"xmb_cc/mv/204*\",\"xmb_cc/mv/205*\",...,\"xmb_cc/mv/236\",\"xmb_cc/mv/237\",\"xmb_cc/mv/238\",\"xmb_cc/mv/239\",\"xmb_cc/mv/240\"]]\n",
       "z: [[1.44875,1.3725,1.29625,1.22,1.14375,...,-1.22,-1.29625,-1.3725,-1.44875,-1.525]]\n",
       "toroidal_angle: [[270,270,270,270,270,...,270,270,270,270,270]]\n",
       "r: [[0.1806,0.1806,0.1806,0.1806,0.1806,...,0.1806,0.1806,0.1806,0.1806,0.1806]]"
      ]
     },
     "execution_count": 12,
     "metadata": {},
     "output_type": "execute_result"
    }
   ],
   "source": [
    "import pyarrow as pa\n",
    "\n",
    "# Define the fields\n",
    "name_field = pa.field(\"uda_name\", pa.string())\n",
    "z_field = pa.field(\"z\", pa.float32(), metadata={\"units\": \"meter\"})\n",
    "toroidal_angle_field = pa.field(\"toroidal_angle\", pa.int32(), metadata={\"units\": \"degree\"})\n",
    "r_field = pa.field(\"r\", pa.float32(), metadata={\"units\": \"meter\"})\n",
    "\n",
    "# Create the schema\n",
    "schema = pa.schema([name_field, z_field, toroidal_angle_field, r_field])\n",
    "\n",
    "names = pa.array([\n",
    "        \"xmb_cc/mv/201\",\n",
    "        \"xmb_cc/mv/202*\",\n",
    "        \"xmb_cc/mv/203*\",\n",
    "        \"xmb_cc/mv/204*\",\n",
    "        \"xmb_cc/mv/205*\",\n",
    "        \"xmb_cc/mv/206*\",\n",
    "        \"xmb_cc/mv/207*\",\n",
    "        \"xmb_cc/mv/208*\",\n",
    "        \"xmb_cc/mv/209*\",\n",
    "        \"xmb_cc/mv/210*\",\n",
    "        \"xmb_cc/mv/211*\",\n",
    "        \"xmb_cc/mv/212*\",\n",
    "        \"xmb_cc/mv/213*\",\n",
    "        \"xmb_cc/mv/214*\",\n",
    "        \"xmb_cc/mv/215*\",\n",
    "        \"xmb_cc/mv/216*\",\n",
    "        \"xmb_cc/mv/217*\",\n",
    "        \"xmb_cc/mv/218*\",\n",
    "        \"xmb_cc/mv/219*\",\n",
    "        \"xmb_cc/mv/220*\",\n",
    "        \"xmb_cc/mv/221*\",\n",
    "        \"xmb_cc/mv/222*\",\n",
    "        \"xmb_cc/mv/223*\",\n",
    "        \"xmb_cc/mv/224\",\n",
    "        \"xmb_cc/mv/224\",\n",
    "        \"xmb_cc/mv/225\",\n",
    "        \"xmb_cc/mv/226\",\n",
    "        \"xmb_cc/mv/227\",\n",
    "        \"xmb_cc/mv/228\",\n",
    "        \"xmb_cc/mv/229\",\n",
    "        \"xmb_cc/mv/230\",\n",
    "        \"xmb_cc/mv/231\",\n",
    "        \"xmb_cc/mv/232\",\n",
    "        \"xmb_cc/mv/233\",\n",
    "        \"xmb_cc/mv/234\",\n",
    "        \"xmb_cc/mv/235\",\n",
    "        \"xmb_cc/mv/236\",\n",
    "        \"xmb_cc/mv/237\",\n",
    "        \"xmb_cc/mv/238\",\n",
    "        \"xmb_cc/mv/239\",\n",
    "        \"xmb_cc/mv/240\"\n",
    "    ])\n",
    "\n",
    "z = pa.array([\n",
    "        1.44875,\n",
    "        1.3725,\n",
    "        1.29625,\n",
    "        1.220,\n",
    "        1.14375,\n",
    "        1.0675,\n",
    "        0.99125,\n",
    "        0.915,\n",
    "        0.83875,\n",
    "        0.7625,\n",
    "        0.68625,\n",
    "        0.610,\n",
    "        0.53375,\n",
    "        0.4575,\n",
    "        0.38125,\n",
    "        0.305,\n",
    "        0.22875,\n",
    "        0.1525,\n",
    "        0.07625,\n",
    "        0.0,\n",
    "        -0.07625,\n",
    "        -0.1525,\n",
    "        -0.22875,\n",
    "        -0.305,\n",
    "        -0.305,\n",
    "        -0.38125,\n",
    "        -0.4575,\n",
    "        -0.53375,\n",
    "        -0.610,\n",
    "        -0.68625,\n",
    "        -0.7625,\n",
    "        -0.83875,\n",
    "        -0.915,\n",
    "        -0.99125,\n",
    "        -1.0675,\n",
    "        -1.14375,\n",
    "        -1.220,\n",
    "        -1.29625,\n",
    "        -1.3725,\n",
    "        -1.44875,\n",
    "        -1.525\n",
    "    ])\n",
    "\n",
    "toroidal_angle = pa.array([270] * len(names))\n",
    "r = pa.array([0.1806] * len(names))\n",
    "\n",
    "ccmv = pa.Table.from_arrays([names, z, toroidal_angle, r], schema=schema)\n",
    "ccmv"
   ]
  },
  {
   "cell_type": "code",
   "execution_count": 13,
   "metadata": {},
   "outputs": [
    {
     "data": {
      "text/plain": [
       "uda_name: string\n",
       "z: float\n",
       "  -- field metadata --\n",
       "  units: 'meter'\n",
       "toroidal_angle: int32\n",
       "  -- field metadata --\n",
       "  units: 'degree'\n",
       "r: float\n",
       "  -- field metadata --\n",
       "  units: 'meter'"
      ]
     },
     "execution_count": 13,
     "metadata": {},
     "output_type": "execute_result"
    }
   ],
   "source": [
    "ccmv.schema"
   ]
  },
  {
   "cell_type": "code",
   "execution_count": 14,
   "metadata": {},
   "outputs": [],
   "source": [
    "import pyarrow.parquet as pq\n",
    "\n",
    "pq.write_table(ccmv, '../geometry_files/ccmv.parquet')"
   ]
  }
 ],
 "metadata": {
  "kernelspec": {
   "display_name": "venv",
   "language": "python",
   "name": "python3"
  },
  "language_info": {
   "codemirror_mode": {
    "name": "ipython",
    "version": 3
   },
   "file_extension": ".py",
   "mimetype": "text/x-python",
   "name": "python",
   "nbconvert_exporter": "python",
   "pygments_lexer": "ipython3",
   "version": "3.13.0"
  }
 },
 "nbformat": 4,
 "nbformat_minor": 2
}
