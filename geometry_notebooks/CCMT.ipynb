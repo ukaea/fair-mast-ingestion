{
 "cells": [
  {
   "cell_type": "markdown",
   "metadata": {},
   "source": [
    "## CC toroidal Arrays of Bv Mirnovs"
   ]
  },
  {
   "cell_type": "markdown",
   "metadata": {},
   "source": [
    "- There are 3 toroidal arrays of 12 BV coils on the centre column. \n",
    "- They are at Z = 915mm, Z = 0.0 mm and Z = -610 mm\n",
    "- The below data is from the midplane (Z=0) coils. The other two would be `xmc_cc/mt/3**` for example (as drawn in the PDF), but no geometry exsits in the PDFs or can I find them on UDA. The signal is combined from all 3 arrays\n"
   ]
  },
  {
   "cell_type": "code",
   "execution_count": 1,
   "metadata": {},
   "outputs": [
    {
     "data": {
      "text/plain": [
       "pyarrow.Table\n",
       "uda_name: string\n",
       "toroidal_angle: int32\n",
       "z1: float\n",
       "z2: float\n",
       "z3: float\n",
       "----\n",
       "uda_name: [[\"XMC_CC/MT/201\",\"XMC_CC/MT/202\",\"XMC_CC/MT/203\",\"XMC_CC/MT/204\",\"XMC_CC/MT/205\",...,\"XMC_CC/MT/208\",\"XMC_CC/MT/209\",\"XMC_CC/MT/210\",\"XMC_CC/MT/211\",\"XMC_CC/MT/212\"]]\n",
       "toroidal_angle: [[290,310,350,250,230,...,130,110,70,50,10]]\n",
       "z1: [[0.915,0.915,0.915,0.915,0.915,...,0.915,0.915,0.915,0.915,0.915]]\n",
       "z2: [[0,0,0,0,0,...,0,0,0,0,0]]\n",
       "z3: [[-0.61,-0.61,-0.61,-0.61,-0.61,...,-0.61,-0.61,-0.61,-0.61,-0.61]]"
      ]
     },
     "execution_count": 1,
     "metadata": {},
     "output_type": "execute_result"
    }
   ],
   "source": [
    "import pyarrow as pa\n",
    "\n",
    "# Define the fields\n",
    "name_field = pa.field(\"uda_name\", pa.string())\n",
    "toroidal_angle_field = pa.field(\"toroidal_angle\", pa.int32(), metadata={\"units\": \"degree\"})\n",
    "z1_field = pa.field(\"z1\", pa.float32(), metadata={\"units\": \"meter\"})\n",
    "z2_field = pa.field(\"z2\", pa.float32(), metadata={\"units\": \"meter\"})\n",
    "z3_field = pa.field(\"z3\", pa.float32(), metadata={\"units\": \"meter\"})\n",
    "\n",
    "# Create the schema\n",
    "schema = pa.schema([name_field, toroidal_angle_field, z1_field, z2_field, z3_field], metadata={\"source\": \"CCMT - CC toroidal Arrays of Bv Mirnovs.pdf\"})\n",
    "\n",
    "names = pa.array([\n",
    "    \"XMC_CC/MT/201\",\n",
    "    \"XMC_CC/MT/202\",\n",
    "    \"XMC_CC/MT/203\",\n",
    "    \"XMC_CC/MT/204\",\n",
    "    \"XMC_CC/MT/205\",\n",
    "    \"XMC_CC/MT/206\",\n",
    "    \"XMC_CC/MT/207\",\n",
    "    \"XMC_CC/MT/208\",\n",
    "    \"XMC_CC/MT/209\",\n",
    "    \"XMC_CC/MT/210\",\n",
    "    \"XMC_CC/MT/211\",\n",
    "    \"XMC_CC/MT/212\"\n",
    "])\n",
    "\n",
    "toroidal_angle = pa.array([\n",
    "    290,\n",
    "    310,\n",
    "    350,\n",
    "    250,\n",
    "    230,\n",
    "    190,\n",
    "    170,\n",
    "    130,\n",
    "    110,\n",
    "    70,\n",
    "    50,\n",
    "    10\n",
    "])\n",
    "\n",
    "z1 = pa.array([0.915] * len(names))\n",
    "z2 = pa.array([0.0] * len(names))\n",
    "z3 = pa.array([-0.61] * len(names))\n",
    "\n",
    "ccmt = pa.Table.from_arrays([names, toroidal_angle, z1, z2, z3], schema=schema)\n",
    "ccmt"
   ]
  },
  {
   "cell_type": "code",
   "execution_count": 2,
   "metadata": {},
   "outputs": [
    {
     "data": {
      "text/plain": [
       "uda_name: string\n",
       "toroidal_angle: int32\n",
       "  -- field metadata --\n",
       "  units: 'degree'\n",
       "z1: float\n",
       "  -- field metadata --\n",
       "  units: 'meter'\n",
       "z2: float\n",
       "  -- field metadata --\n",
       "  units: 'meter'\n",
       "z3: float\n",
       "  -- field metadata --\n",
       "  units: 'meter'\n",
       "-- schema metadata --\n",
       "source: 'CCMT - CC toroidal Arrays of Bv Mirnovs.pdf'"
      ]
     },
     "execution_count": 2,
     "metadata": {},
     "output_type": "execute_result"
    }
   ],
   "source": [
    "ccmt.schema"
   ]
  },
  {
   "cell_type": "code",
   "execution_count": 3,
   "metadata": {},
   "outputs": [],
   "source": [
    "import pyarrow.parquet as pq\n",
    "\n",
    "pq.write_table(ccmt, '../geometry_files/ccmt.parquet')"
   ]
  }
 ],
 "metadata": {
  "kernelspec": {
   "display_name": "venv",
   "language": "python",
   "name": "python3"
  },
  "language_info": {
   "codemirror_mode": {
    "name": "ipython",
    "version": 3
   },
   "file_extension": ".py",
   "mimetype": "text/x-python",
   "name": "python",
   "nbconvert_exporter": "python",
   "pygments_lexer": "ipython3",
   "version": "3.13.0"
  }
 },
 "nbformat": 4,
 "nbformat_minor": 2
}
