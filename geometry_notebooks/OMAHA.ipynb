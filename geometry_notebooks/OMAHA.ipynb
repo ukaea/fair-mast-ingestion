{
 "cells": [
  {
   "cell_type": "markdown",
   "metadata": {},
   "source": [
    "## OMAHA\n",
    "\n",
    "- R = 1.7\n",
    "- +20cm and -20cm above and below the midplane\n",
    "- The names of the signals varied between different shots on the PDF logs, so I have tried to seperate them."
   ]
  },
  {
   "cell_type": "markdown",
   "metadata": {},
   "source": [
    "### Pre 22108"
   ]
  },
  {
   "cell_type": "code",
   "execution_count": 79,
   "metadata": {},
   "outputs": [
    {
     "data": {
      "text/plain": [
       "pyarrow.Table\n",
       "uda_name: string\n",
       "toroidal_angle: float\n",
       "z: float\n",
       "orientation: string\n",
       "----\n",
       "uda_name: [[\"XMO_OMAHA_7.2H\",\"XMO_OMAHA_8.1H\",\"XMO_OMAHA_8.2\",\"XMO_OMAHA_1.2H\",\"XMO_OMAHA_9.1H\",...,\"XMO_OMAHA_2.3H\",\"XMO_OMAHA_3.1H\",\"XMO_OMAHA_9.2H\",\"XMO_OMAHA_5.2H\",\"XMO_OMAHA_CH12\"]]\n",
       "toroidal_angle: [[267.5,277.5,277.5,277.5,292.5,...,324,336,357,6,306]]\n",
       "z: [[0.2,0.2,0.2,0.2,0.2,...,0.2,0.2,0.2,0.2,-0.2]]\n",
       "orientation: [[\"Radial (Inverted)\",\"Toroidal\",\"Vertical (Inverted)\",\"Radial\",\"Toroidal\",...,\"Radial\",\"Toroidal\",\"Vertical\",\"Radial\",\"Radial\"]]"
      ]
     },
     "execution_count": 79,
     "metadata": {},
     "output_type": "execute_result"
    }
   ],
   "source": [
    "import pyarrow as pa\n",
    "import json\n",
    "\n",
    "# Define the fields\n",
    "name_field = pa.field(\"uda_name\", pa.string())\n",
    "toroidal_angle_field = pa.field(\"toroidal_angle\", pa.float32(), metadata={\"units\": \"degree\"})\n",
    "z_field = pa.field(\"z\", pa.float32(), metadata={\"units\": \"meter\"})\n",
    "orientation_field = pa.field(\"orientation\", pa.string())\n",
    "\n",
    "# Create the schema\n",
    "schema = pa.schema([name_field, toroidal_angle_field, z_field, orientation_field], metadata={\"shot_range\": \"< 22108\"})\n",
    "\n",
    "# Create PyArrow arrays for each field\n",
    "names = pa.array([\"XMO_OMAHA_7.2H\", \"XMO_OMAHA_8.1H\", \"XMO_OMAHA_8.2\", \"XMO_OMAHA_1.2H\", \"XMO_OMAHA_9.1H\", \"XMO_OMAHA_2.2H\", \"XMO_OMAHA_1.1H\", \"XMO_OMAHA_4.2H\", \"XMO_OMAHA_1.3H\", \"XMO_OMAHA_8.3H\", \"XMO_OMAHA_2.3H\", \"XMO_OMAHA_3.1H\", \"XMO_OMAHA_9.2H\", \"XMO_OMAHA_5.2H\", \"XMO_OMAHA_CH12\"])\n",
    "\n",
    "toroidal_angle = pa.array([267.5, 277.5, 277.5, 277.5, 292.5, 292.5, 306, 306, 306, 324, 324, 336, 357, 6, 306])\n",
    "\n",
    "z = pa.array([0.2,0.2,0.2,0.2,0.2,0.2,0.2,0.2,0.2,0.2,0.2,0.2,0.2,0.2,-0.2])\n",
    "\n",
    "orientation = pa.array([\"Radial (Inverted)\", \"Toroidal\", \"Vertical (Inverted)\", \"Radial\", \"Toroidal\", \"Vertical\", \"Toroidal\", \"Vertical\", \"Radial\", \"Vertical\", \"Radial\", \"Toroidal\", \"Vertical\", \"Radial\", \"Radial\"])\n",
    "\n",
    "omaha_pre_22108= pa.Table.from_arrays([names, toroidal_angle, z, orientation], schema=schema)\n",
    "omaha_pre_22108"
   ]
  },
  {
   "cell_type": "code",
   "execution_count": 80,
   "metadata": {},
   "outputs": [],
   "source": [
    "import pyarrow.parquet as pq\n",
    "\n",
    "pq.write_table(omaha_pre_22108, '../geometry_files/omaha_pre_22108.parquet')"
   ]
  },
  {
   "cell_type": "markdown",
   "metadata": {},
   "source": [
    "### 22108 to 23945"
   ]
  },
  {
   "cell_type": "code",
   "execution_count": 81,
   "metadata": {},
   "outputs": [
    {
     "data": {
      "text/plain": [
       "pyarrow.Table\n",
       "uda_name: string\n",
       "toroidal_angle: float\n",
       "z: float\n",
       "orientation: string\n",
       "----\n",
       "uda_name: [[\"XMD_OMAHA_TEST#5\",\"XMD_OMAHA_TEST#4\",\"XMD_OMAHA_TEST#5\",\"XAE_OMAHA#2AU\",\"XAE_OMAHA#2BU\",...,\"XMO_OMAHA/5B\",\"XMO_OMAHA/5C\",\"XMO_OMAHA/L6A\",\"XMO_OMAHA/L6B\",\"XMO_OMAHA/L6C\"]]\n",
       "toroidal_angle: [[57.5,57.5,57.5,122.5,122.5,...,156.5,156.5,174.5,174.5,174.5]]\n",
       "z: [[0.2,0.2,0.2,0.2,0.2,...,-0.2,-0.2,-0.2,-0.2,-0.2]]\n",
       "orientation: [[\"Toroidal (inverted)\",\"Radial (inverted)\",\"Vertical (Inverted)\",\"TAE\",\"TAE\",...,\"Toroidal (inverted)\",\"Radial (inverted)\",\"Toroidal (inverted)\",\"Radial\",\"Vertical - Not used nor checked\"]]"
      ]
     },
     "execution_count": 81,
     "metadata": {},
     "output_type": "execute_result"
    }
   ],
   "source": [
    "import pyarrow as pa\n",
    "import json\n",
    "\n",
    "# Define the fields\n",
    "name_field = pa.field(\"uda_name\", pa.string())\n",
    "toroidal_angle_field = pa.field(\"toroidal_angle\", pa.float32(), metadata={\"units\": \"degree\"})\n",
    "z_field = pa.field(\"z\", pa.float32(), metadata={\"units\": \"meter\"})\n",
    "orientation_field = pa.field(\"orientation\", pa.string())\n",
    "\n",
    "# Create the schema\n",
    "schema = pa.schema([name_field, toroidal_angle_field, z_field, orientation_field], metadata={\"shot_range\": \"22108 - 23945\"})\n",
    "\n",
    "# Create PyArrow arrays for each field\n",
    "names = pa.array([\"XMD_OMAHA_TEST#5\", \"XMD_OMAHA_TEST#4\", \"XMD_OMAHA_TEST#5\", \"XAE_OMAHA#2AU\", \"XAE_OMAHA#2BU\", \"XAE_OMAHA#2CU\", \"XMD_OMAHA_TEST#6\", \"XMD_OMAHA_TEST#7\", \"XMD_OMAHA_TEST#8\", \"XMD_OMAHA_TEST#9\", \"XMD_OMAHA_TEST#10\", \"XMD_OMAHA_TEST#11\", \"XMD_OMAHA_TEST#12\", \"XMD_OMAHA_TEST#13\", \"XMD_OMAHA_TEST#1\", \"XMD_OMAHA_TEST#2\",\n",
    "                \"XMO_OMAHA/L1A\", \"XMO_OMAHA/L1B\", \"XMO_OMAHA/L1C\", \"XMO_OMAHA/L2A\", \"XMO_OMAHA/L2B\", \"XMO_OMAHA/L2C\", \"XMO_OMAHA/L3A\", \"XMO_OMAHA/L3B\", \"XMO_OMAHA/L3C\", \"XMO_OMAHA/L4A\", \"XMO_OMAHA/L4B\", \"XMO_OMAHA/L4C\", \"XMO_OMAHA/5A\", \"XMO_OMAHA/5B\", \"XMO_OMAHA/5C\", \"XMO_OMAHA/L6A\", \"XMO_OMAHA/L6B\", \"XMO_OMAHA/L6C\"])\n",
    "\n",
    "toroidal_angle = pa.array([57.5, 57.5, 57.5, 122.5, 122.5, 122.5, 127.5, 127.5, 127.5, 142.5, 142.5, 142.5, 147.5, 147.5, 172.5, 172.5,\n",
    "                        54.5, 54.5, 54.5, 114.8, 114.8, 114.8, 124, 124, 124, 147.5, 147.5, 147.5, 156.5, 156.5, 156.5, 174.5, 174.5, 174.5])\n",
    "\n",
    "z = pa.array([0.2,0.2,0.2,0.2,0.2,0.2,0.2,0.2,0.2,0.2,0.2,0.2,0.2,0.2,0.2,0.2,\n",
    "            -0.2,-0.2,-0.2,-0.2,-0.2,-0.2,-0.2,-0.2,-0.2,-0.2,-0.2,-0.2,-0.2,-0.2,-0.2,-0.2,-0.2,-0.2])\n",
    "\n",
    "orientation = pa.array([\"Toroidal (inverted)\", \"Radial (inverted)\", \"Vertical (Inverted)\", \"TAE\", \"TAE\", \"TAE\", \"Toroidal\", \"Radial\", \"Vertical\", \"Toroidal (inverted)\", \"Radial (inverted)\", \"Vertical(inverted)\", \"Toroidal (inverted)\", \"Radial (inverted)\", \"Toroidal\", \"Radial\",\n",
    "                        \"Radial - not used\", \"Toroidal (DEAD)\", \"Radial (inverted)\", \"Vertical (Inverted)\", \"Check\", \"Check\", \"Check\", \"Check\", \"Radial\", \"Vertical\", \"Toroidal (inverted) (DEAD!!)\", \"Radial\", \"Vertical(inverted)\", \"Toroidal (inverted)\", \"Radial (inverted)\", \"Toroidal (inverted)\", \"Radial\", \"Vertical - Not used nor checked\"])\n",
    "omaha_22108_23945= pa.Table.from_arrays([names, toroidal_angle, z, orientation], schema=schema)\n",
    "omaha_22108_23945"
   ]
  },
  {
   "cell_type": "code",
   "execution_count": 82,
   "metadata": {},
   "outputs": [],
   "source": [
    "import pyarrow.parquet as pq\n",
    "\n",
    "pq.write_table(omaha_22108_23945, '../geometry_files/omaha_22108_23945.parquet')"
   ]
  },
  {
   "cell_type": "markdown",
   "metadata": {},
   "source": [
    "### 23945 to 24719"
   ]
  },
  {
   "cell_type": "code",
   "execution_count": 83,
   "metadata": {},
   "outputs": [
    {
     "data": {
      "text/plain": [
       "pyarrow.Table\n",
       "uda_name: string\n",
       "toroidal_angle: float\n",
       "z: float\n",
       "orientation: string\n",
       "----\n",
       "uda_name: [[\"XMD_OMAHA/1AU\",\"XMD_OMAHA/1BU\",\"XMD_OMAHA/1CU\",\"XAE_OMAHA#2AU\",\"XAE_OMAHA#2BU\",...,\"XMC_OMAHA/L5B\",\"XMC_OMAHA/L5C\",\"XMC_OMAHA/L6A\",\"XMC_OMAHA/L6B\",\"XMC_OMAHA/L6C\"]]\n",
       "toroidal_angle: [[57.5,57.5,57.5,122.5,122.5,...,156.5,156.5,174.5,174.5,174.5]]\n",
       "z: [[0.2,0.2,0.2,0.2,0.2,...,-0.2,-0.2,-0.2,-0.2,-0.2]]\n",
       "orientation: [[\"Radial\",\"Toroidal\",\"Vertical\",\"not known\",\"not known\",...,\"Toroidal\",\"Vertical\",\"Radial\",\"Toroidal\",\"Vertical\"]]"
      ]
     },
     "execution_count": 83,
     "metadata": {},
     "output_type": "execute_result"
    }
   ],
   "source": [
    "import pyarrow as pa\n",
    "import json\n",
    "\n",
    "# Define the fields\n",
    "name_field = pa.field(\"uda_name\", pa.string())\n",
    "toroidal_angle_field = pa.field(\"toroidal_angle\", pa.float32(), metadata={\"units\": \"degree\"})\n",
    "z_field = pa.field(\"z\", pa.float32(), metadata={\"units\": \"meter\"})\n",
    "orientation_field = pa.field(\"orientation\", pa.string())\n",
    "\n",
    "# Create the schema\n",
    "schema = pa.schema([name_field, toroidal_angle_field, z_field, orientation_field], metadata={\"shot_range\": \"23945 - 24719\"})\n",
    "\n",
    "# Create PyArrow arrays for each field\n",
    "names = pa.array([\n",
    "    \"XMD_OMAHA/1AU\", \"XMD_OMAHA/1BU\", \"XMD_OMAHA/1CU\", \n",
    "    \"XAE_OMAHA#2AU\", \"XAE_OMAHA#2BU\", \"XAE_OMAHA#2CU\",\n",
    "    \"XMD_OMAHA/3AU\", \"XMD_OMAHA/3BU\", \"XMD_OMAHA/3CU\",\n",
    "    \"XMD_OMAHA/4AU\", \"XMD_OMAHA/4BU\", \"XMD_OMAHA/4CU\",\n",
    "    \"XMD_OMAHA/5AU\", \"XMD_OMAHA/5BU\", \"XMD_OMAHA/6AU\", \n",
    "    \"XMD_OMAHA/6BU\", \"XMD_OMAHA/6CU\", \"XMO_OMAHA/L1A\", \"XMO_OMAHA/L1B\", \"XMO_OMAHA/L1C\",\n",
    "    \"XMC_OMAHA/L2A\", \"XMC_OMAHA/L2B\", \"XMC_OMAHA/L2C\",\n",
    "    \"XMC_OMAHA/L3A\", \"XMC_OMAHA/L3B\", \"XMC_OMAHA/L3C\",\n",
    "    \"XMC_OMAHA/L4A\", \"XMC_OMAHA/L4B\", \"XMC_OMAHA/L4C\",\n",
    "    \"XMC_OMAHA/L5A\", \"XMC_OMAHA/L5B\", \"XMC_OMAHA/L5C\",\n",
    "    \"XMC_OMAHA/L6A\", \"XMC_OMAHA/L6B\", \"XMC_OMAHA/L6C\"\n",
    "])\n",
    "\n",
    "toroidal_angle = pa.array([\n",
    "    57.5, 57.5, 57.5, \n",
    "    122.5, 122.5, 122.5, \n",
    "    127.5, 127.5, 127.5, \n",
    "    142.5, 142.5, 142.5, \n",
    "    147.5, 147.5, 172.5, \n",
    "    172.5, 172.5, 54.5, 54.5, 54.5, \n",
    "    115, 115, 115, \n",
    "    124, 124, 124, \n",
    "    147.5, 147.5, 147.5, \n",
    "    156.5, 156.5, 156.5, \n",
    "    174.5, 174.5, 174.5\n",
    "])\n",
    "\n",
    "z = pa.array([0.2,0.2,0.2,0.2,0.2,0.2,0.2,0.2,0.2,0.2,0.2,0.2,0.2,0.2,0.2,0.2,0.2,\n",
    "              -0.2,-0.2,-0.2,-0.2,-0.2,-0.2,-0.2,-0.2,-0.2,-0.2,-0.2,-0.2,-0.2,-0.2,-0.2,-0.2,-0.2,-0.2])\n",
    "\n",
    "orientation = pa.array([\n",
    "    \"Radial\", \"Toroidal\", \"Vertical\", \n",
    "    \"not known\", \"not known\", \"not known\", \n",
    "    \"Radial\", \"Toroidal\", \"Vertical\", \n",
    "    \"Radial\", \"Toroidal\", \"Vertical\", \n",
    "    \"Radial\", \"Toroidal\", \"Radial\", \n",
    "    \"Toroidal\", \"Radial\", \"Radial\", \"Toroidal\", \"Vertical\",\n",
    "    \"Radial\", \"Toroidal\", \"Vertical\",\n",
    "    \"Radial\", \"Toroidal\", \"Vertical\",\n",
    "    \"Radial\", \"Toroidal\", \"Vertical\",\n",
    "    \"Radial\", \"Toroidal\", \"Vertical\",\n",
    "    \"Radial\", \"Toroidal\", \"Vertical\"\n",
    "])\n",
    "\n",
    "omaha_23945_24719= pa.Table.from_arrays([names, toroidal_angle, z, orientation], schema=schema)\n",
    "omaha_23945_24719"
   ]
  },
  {
   "cell_type": "code",
   "execution_count": 84,
   "metadata": {},
   "outputs": [],
   "source": [
    "import pyarrow.parquet as pq\n",
    "\n",
    "pq.write_table(omaha_23945_24719, '../geometry_files/omaha_23945_24719.parquet')"
   ]
  },
  {
   "cell_type": "markdown",
   "metadata": {},
   "source": [
    "### 24719 to 25401 and beyond (I think)"
   ]
  },
  {
   "cell_type": "code",
   "execution_count": 85,
   "metadata": {},
   "outputs": [
    {
     "data": {
      "text/plain": [
       "uda_ame: string\n",
       "toroidal_angle: float\n",
       "  -- field metadata --\n",
       "  units: 'degree'\n",
       "r: float\n",
       "  -- field metadata --\n",
       "  units: 'meter'\n",
       "z: float\n",
       "  -- field metadata --\n",
       "  units: 'meter'\n",
       "orientation: string\n",
       "-- schema metadata --\n",
       "shot_range: '> 24719'"
      ]
     },
     "execution_count": 85,
     "metadata": {},
     "output_type": "execute_result"
    }
   ],
   "source": [
    "import pyarrow as pa\n",
    "import json\n",
    "\n",
    "# Define the fields\n",
    "name_field = pa.field(\"uda_ame\", pa.string())\n",
    "toroidal_angle_field = pa.field(\"toroidal_angle\", pa.float32(), metadata={\"units\": \"degree\"})\n",
    "r_field = pa.field(\"r\", pa.float32(), metadata={\"units\": \"meter\"})\n",
    "z_field = pa.field(\"z\", pa.float32(), metadata={\"units\": \"meter\"})\n",
    "orientation_field = pa.field(\"orientation\", pa.string())\n",
    "\n",
    "# Create the schema\n",
    "schema = pa.schema([name_field, toroidal_angle_field, r_field, z_field, orientation_field], metadata={\"shot_range\": \"> 24719\"})\n",
    "\n",
    "# Create PyArrow arrays for each field\n",
    "names = pa.array([\n",
    "        \"XMC_OMAHA/1AU\",\n",
    "        \"XMC_OMAHA/1BU\",\n",
    "        \"XMC_OMAHA/1CU\",\n",
    "        \"XAE_OMAHA#2AU\",\n",
    "        \"XAE_OMAHA#2BU\",\n",
    "        \"XAE_OMAHA#2CU\",\n",
    "        \"XMC_OMAHA/3AU\",\n",
    "        \"XMC_OMAHA/3BU\",\n",
    "        \"XMC_OMAHA/3CU\",\n",
    "        \"XMC_OMAHA/4AU\",\n",
    "        \"XMC_OMAHA/4BU\",\n",
    "        \"XMC_OMAHA/4CU\",\n",
    "        \"XMC_OMAHA/5AU\",\n",
    "        \"XMC_OMAHA/5BU\",\n",
    "        \"XMC_OMAHA/6AU\",\n",
    "        \"XMC_OMAHA/6BU\",\n",
    "        \"XMC_OMAHA/6CU\",\n",
    "        \"XMO_OMAHA/L1A\",\n",
    "        \"XMO_OMAHA/L1B\",\n",
    "        \"XMC_OMAHA/L1C\",\n",
    "        \"XMC_OMAHA/L2A\",\n",
    "        \"XMC_OMAHA/L2B\",\n",
    "        \"XMC_OMAHA/L2C\",\n",
    "        \"XMC_OMAHA/L3A\",\n",
    "        \"XMC_OMAHA/L3B\",\n",
    "        \"XMC_OMAHA/L3C\",\n",
    "        \"XMC_OMAHA/L4A\",\n",
    "        \"XMC_OMAHA/L4B\",\n",
    "        \"XMC_OMAHA/L4C\",\n",
    "        \"XMC_OMAHA/L5A\",\n",
    "        \"XMC_OMAHA/L5B\",\n",
    "        \"XMC_OMAHA/L5C\",\n",
    "        \"XMC_OMAHA/L6A\",\n",
    "        \"XMC_OMAHA/L6B\",\n",
    "        \"XMC_OMAHA/L6C\"\n",
    "    ])\n",
    "\n",
    "toroidal_angle = pa.array([\n",
    "        57.5,\n",
    "        57.5,\n",
    "        57.5,\n",
    "        122.5,\n",
    "        122.5,\n",
    "        122.5,\n",
    "        127.5,\n",
    "        127.5,\n",
    "        127.5,\n",
    "        142.5,\n",
    "        142.5,\n",
    "        142.5,\n",
    "        147.5,\n",
    "        147.5,\n",
    "        172.5,\n",
    "        172.5,\n",
    "        172.5,\n",
    "        54.5,\n",
    "        54.5,\n",
    "        54.5,\n",
    "        115,\n",
    "        115,\n",
    "        115,\n",
    "        124,\n",
    "        124,\n",
    "        124,\n",
    "        147.5,\n",
    "        147.5,\n",
    "        147.5,\n",
    "        156.5,\n",
    "        156.5,\n",
    "        156.5,\n",
    "        174.5,\n",
    "        174.5,\n",
    "        174.5\n",
    "    ])\n",
    "\n",
    "r = pa.array([1.7] * len(names))\n",
    "\n",
    "z = pa.array([0.2,0.2,0.2,0.2,0.2,0.2,0.2,0.2,0.2,0.2,0.2,0.2,0.2,0.2,0.2,0.2,0.2,\n",
    "              -0.2,-0.2,-0.2,-0.2,-0.2,-0.2,-0.2,-0.2,-0.2,-0.2,-0.2,-0.2,-0.2,-0.2,-0.2,-0.2,-0.2,-0.2,])\n",
    "\n",
    "\n",
    "orientation = pa.array([\n",
    "        \"Radial\",\n",
    "        \"Toroidal\",\n",
    "        \"Vertical\",\n",
    "        \"not known\",\n",
    "        \"not known\",\n",
    "        \"not known\",\n",
    "        \"Radial\",\n",
    "        \"Toroidal\",\n",
    "        \"Vertical\",\n",
    "        \"Radial\",\n",
    "        \"Toroidal\",\n",
    "        \"Vertical\",\n",
    "        \"Radial\",\n",
    "        \"Toroidal\",\n",
    "        \"Radial\",\n",
    "        \"Toroidal\",\n",
    "        \"Radial\",\n",
    "        \"Radial\",\n",
    "        \"Toroidal\",\n",
    "        \"Vertical\",\n",
    "        \"Radial\",\n",
    "        \"Toroidal\",\n",
    "        \"Vertical\",\n",
    "        \"Radial\",\n",
    "        \"Toroidal\",\n",
    "        \"Vertical\",\n",
    "        \"Radial\",\n",
    "        \"Toroidal\",\n",
    "        \"Vertical\",\n",
    "        \"Radial\",\n",
    "        \"Toroidal\",\n",
    "        \"Vertical\",\n",
    "        \"Radial\",\n",
    "        \"Toroidal\",\n",
    "        \"Vertical\"\n",
    "    ])\n",
    "\n",
    "\n",
    "omaha_post_24719 = pa.Table.from_arrays([names, toroidal_angle, r, z, orientation], schema=schema)\n",
    "omaha_post_24719.schema"
   ]
  },
  {
   "cell_type": "code",
   "execution_count": 86,
   "metadata": {},
   "outputs": [],
   "source": [
    "import pyarrow.parquet as pq\n",
    "\n",
    "pq.write_table(omaha_post_24719, '../geometry_files/omaha_post_24719.parquet')"
   ]
  }
 ],
 "metadata": {
  "kernelspec": {
   "display_name": "venv",
   "language": "python",
   "name": "python3"
  },
  "language_info": {
   "codemirror_mode": {
    "name": "ipython",
    "version": 3
   },
   "file_extension": ".py",
   "mimetype": "text/x-python",
   "name": "python",
   "nbconvert_exporter": "python",
   "pygments_lexer": "ipython3",
   "version": "3.13.0"
  }
 },
 "nbformat": 4,
 "nbformat_minor": 2
}
