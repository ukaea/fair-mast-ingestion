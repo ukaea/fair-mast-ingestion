{
 "cells": [
  {
   "cell_type": "markdown",
   "metadata": {},
   "source": [
    "## Outer Saddle Coils"
   ]
  },
  {
   "cell_type": "code",
   "execution_count": 1,
   "metadata": {},
   "outputs": [
    {
     "data": {
      "text/plain": [
       "pyarrow.Table\n",
       "uda_name: string\n",
       "sector: int32\n",
       "toroidal_angle: int32\n",
       "r: float\n",
       "z: float\n",
       "height: float\n",
       "width: float\n",
       "----\n",
       "uda_name: [[\"XMB_/SAD/OUT/U01\",\"XMB_/SAD/OUT/M01\",\"XMB_/SAD/OUT/L01\",\"XMB_/SAD/OUT/U02\",\"XMB_/SAD/OUT/M02\",...,\"XMB_/SAD/OUT/M11\",\"XMB_/SAD/OUT/L11\",\"XMB_/SAD/OUT/U12\",\"XMB_/SAD/OUT/M12\",\"XMB_/SAD/OUT/L12\"]]\n",
       "sector: [[1,1,1,2,2,...,11,11,12,12,12]]\n",
       "toroidal_angle: [[15,15,15,45,45,...,315,315,345,345,345]]\n",
       "r: [[1.999,1.999,1.999,1.999,1.999,...,1.999,1.999,1.999,1.999,1.999]]\n",
       "z: [[1.26,0,-1.26,1.26,0,...,0,-1.26,1.26,0,-1.26]]\n",
       "height: [[0.8,0.8,0.8,0.8,0.8,...,0.8,0.8,0.8,0.8,0.8]]\n",
       "width: [[0.7,0.7,0.7,0.7,0.7,...,0.7,0.7,0.7,0.7,0.7]]"
      ]
     },
     "execution_count": 1,
     "metadata": {},
     "output_type": "execute_result"
    }
   ],
   "source": [
    "import pyarrow as pa\n",
    "import json\n",
    "\n",
    "# Define the fields\n",
    "name_field = pa.field(\"uda_name\", pa.string())\n",
    "sector_field = pa.field(\"sector\", pa.int32())\n",
    "toroidal_angle_field = pa.field(\"toroidal_angle\", pa.int32(), metadata={\"units\": \"degree\"})\n",
    "r_field = pa.field(\"r\", pa.float32(), metadata={\"units\": \"meter\"})\n",
    "z_field = pa.field(\"z\", pa.float32(), metadata={\"units\": \"meter\"})\n",
    "height_field = pa.field(\"height\", pa.float32(), metadata={\"units\": \"meter\"})\n",
    "width_field = pa.field(\"width\", pa.float32(), metadata={\"units\": \"meter\"})\n",
    "\n",
    "\n",
    "# Create the schema\n",
    "schema = pa.schema([name_field, sector_field, toroidal_angle_field, r_field, z_field, height_field, width_field])\n",
    "\n",
    "# Create PyArrow arrays for each field\n",
    "names = pa.array([\n",
    "        \"XMB_/SAD/OUT/U01\",\n",
    "        \"XMB_/SAD/OUT/M01\",\n",
    "        \"XMB_/SAD/OUT/L01\",\n",
    "        \"XMB_/SAD/OUT/U02\",\n",
    "        \"XMB_/SAD/OUT/M02\",\n",
    "        \"XMB_/SAD/OUT/L02\",\n",
    "        \"XMB_/SAD/OUT/U03\",\n",
    "        \"XMB_/SAD/OUT/M03\",\n",
    "        \"XMB_/SAD/OUT/L03\",\n",
    "        \"XMB_/SAD/OUT/U04\",\n",
    "        \"XMB_/SAD/OUT/M04\",\n",
    "        \"XMB_/SAD/OUT/L04\",\n",
    "        \"XMB_/SAD/OUT/U05\",\n",
    "        \"XMB_/SAD/OUT/M05\",\n",
    "        \"XMB_/SAD/OUT/L05\",\n",
    "        \"XMB_/SAD/OUT/U06\",\n",
    "        \"XMB_/SAD/OUT/M06\",\n",
    "        \"XMB_/SAD/OUT/L06\",\n",
    "        \"XMB_/SAD/OUT/U07\",\n",
    "        \"XMB_/SAD/OUT/M07\",\n",
    "        \"XMB_/SAD/OUT/L07\",\n",
    "        \"XMB_/SAD/OUT/U08\",\n",
    "        \"XMB_/SAD/OUT/M08\",\n",
    "        \"XMB_/SAD/OUT/L08\",\n",
    "        \"XMB_/SAD/OUT/U09\",\n",
    "        \"XMB_/SAD/OUT/M09\",\n",
    "        \"XMB_/SAD/OUT/L09\",\n",
    "        \"XMB_/SAD/OUT/U10\",\n",
    "        \"XMB_/SAD/OUT/M10\",\n",
    "        \"XMB_/SAD/OUT/L10\",\n",
    "        \"XMB_/SAD/OUT/U11\",\n",
    "        \"XMB_/SAD/OUT/M11\",\n",
    "        \"XMB_/SAD/OUT/L11\",\n",
    "        \"XMB_/SAD/OUT/U12\",\n",
    "        \"XMB_/SAD/OUT/M12\",\n",
    "        \"XMB_/SAD/OUT/L12\"\n",
    "    ])\n",
    "\n",
    "sector = pa.array([\n",
    "        1, 1, 1, 2, 2, 2, 3, 3, 3, 4, 4, 4, 5, 5, 5, 6, 6, 6, 7, 7, 7, 8, 8, 8, 9, 9, 9, 10, 10, 10, 11, 11, 11, 12, 12, 12\n",
    "    ])\n",
    "\n",
    "\n",
    "toroidal_angle = pa.array([\n",
    "        15, 15, 15, 45, 45, 45, 75, 75, 75, 105, 105, 105, 135, 135, 135, 165, 165, 165, 195, 195, 195, 225, 225, 225, 255, 255, 255, 285, 285, 285, 315, 315, 315, 345, 345, 345\n",
    "    ])\n",
    "\n",
    "r = pa.array([\n",
    "        1.999, 1.999, 1.999, 1.999, 1.999, 1.999, 1.999, 1.999, 1.999, 1.999, 1.999, 1.999, 1.999, 1.999, 1.999, 1.999, 1.999, 1.999, 1.999, 1.999, 1.999, 1.999, 1.999, 1.999, 1.999, 1.999, 1.999, 1.999, 1.999, 1.999, 1.999, 1.999, 1.999, 1.999, 1.999, 1.999\n",
    "    ])\n",
    "\n",
    "z = pa.array([\n",
    "        1.26, 0.0, -1.26, 1.26, 0.0, -1.26, 1.26, 0.0, -1.26, 1.26, 0.0, -1.26, 1.26, 0.0, -1.26, 1.26, 0.0, -1.26, 1.26, 0.0, -1.26, 1.26, 0.0, -1.26, 1.26, 0.0, -1.26, 1.26, 0.0, -1.26, 1.26, 0.0, -1.26, 1.26, 0.0, -1.26\n",
    "    ])\n",
    "\n",
    "height = pa.array([0.8] * len(names))\n",
    "width = pa.array([0.7] * len(names))\n",
    "\n",
    "\n",
    "\n",
    "xmb_sad = pa.Table.from_arrays([names, sector, toroidal_angle, r, z, height, width], schema=schema)\n",
    "xmb_sad"
   ]
  },
  {
   "cell_type": "code",
   "execution_count": 2,
   "metadata": {},
   "outputs": [],
   "source": [
    "import pyarrow.parquet as pq\n",
    "\n",
    "pq.write_table(xmb_sad, '../geometry_files/xmb_sad.parquet')"
   ]
  }
 ],
 "metadata": {
  "kernelspec": {
   "display_name": "venv",
   "language": "python",
   "name": "python3"
  },
  "language_info": {
   "codemirror_mode": {
    "name": "ipython",
    "version": 3
   },
   "file_extension": ".py",
   "mimetype": "text/x-python",
   "name": "python",
   "nbconvert_exporter": "python",
   "pygments_lexer": "ipython3",
   "version": "3.13.0"
  }
 },
 "nbformat": 4,
 "nbformat_minor": 2
}
