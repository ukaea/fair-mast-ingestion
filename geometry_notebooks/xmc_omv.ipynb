{
 "cells": [
  {
   "cell_type": "markdown",
   "metadata": {},
   "source": [
    "## OMV - Outboard vertical (Bv/Br) Mirnov Arrays\n",
    "\n",
    "- The Outboard Mirnov coils consist of a set of 19 pairs of Bv/Br coils mounted on the vessel wall at sector 9 (270)\n",
    "\n",
    "- 19 coils, but there are 2 extra ones in the table (110 and 310) and they have differing geom data in both tables? I am going to IGNORE these for now, as there should only be 19 coils. \n",
    "\n",
    "- Logs report some wrong wiring in some signals"
   ]
  },
  {
   "cell_type": "code",
   "execution_count": 1,
   "metadata": {},
   "outputs": [
    {
     "data": {
      "text/plain": [
       "pyarrow.Table\n",
       "uda_ame: string\n",
       "r: float\n",
       "z: float\n",
       "toroidal_angle: int32\n",
       "----\n",
       "uda_ame: [[\"XMC_OMV/201\",\"XMC_OMV/202\",\"XMC_OMV/203\",\"XMC_OMV/204\",\"XMC_OMV/205\",...,\"XMC_OMV/215\",\"XMC_OMV/216\",\"XMC_OMV/217\",\"XMC_OMV/218\",\"XMC_OMV/219\"]]\n",
       "r: [[1.44,1.44,1.59,1.59,1.59,...,1.85,1.59,1.59,1.44,1.44]]\n",
       "z: [[1.325,1.25,0.8,0.725,0.65,...,-0.65,-0.725,-0.8,-1.25,-1.325]]\n",
       "toroidal_angle: [[150,270,270,270,270,...,270,270,270,270,270]]"
      ]
     },
     "execution_count": 1,
     "metadata": {},
     "output_type": "execute_result"
    }
   ],
   "source": [
    "import pyarrow as pa\n",
    "\n",
    "# Define the fields\n",
    "name_field = pa.field(\"uda_ame\", pa.string())\n",
    "r_field = pa.field(\"r\", pa.float32(), metadata={\"units\": \"meter\"})\n",
    "z_field = pa.field(\"z\", pa.float32(), metadata={\"units\": \"meter\"})\n",
    "toroidal_angle_field = pa.field(\"toroidal_angle\", pa.int32(), metadata={\"units\": \"degree\"})\n",
    "\n",
    "\n",
    "# Create the schema\n",
    "schema = pa.schema([name_field, r_field, z_field, toroidal_angle_field,])\n",
    "\n",
    "# Create PyArrow arrays for each field\n",
    "names = pa.array([\"XMC_OMV/201\",\n",
    "        \"XMC_OMV/202\",\n",
    "        \"XMC_OMV/203\",\n",
    "        \"XMC_OMV/204\",\n",
    "        \"XMC_OMV/205\",\n",
    "        \"XMC_OMV/206\",\n",
    "        \"XMC_OMV/207\",\n",
    "        \"XMC_OMV/208\",\n",
    "        \"XMC_OMV/209\",\n",
    "        \"XMC_OMV/210\",\n",
    "        \"XMC_OMV/211\",\n",
    "        \"XMC_OMV/212\",\n",
    "        \"XMC_OMV/213\",\n",
    "        \"XMC_OMV/214\",\n",
    "        \"XMC_OMV/215\",\n",
    "        \"XMC_OMV/216\",\n",
    "        \"XMC_OMV/217\",\n",
    "        \"XMC_OMV/218\",\n",
    "        \"XMC_OMV/219\"\n",
    "    ])\n",
    "\n",
    "r = pa.array([\n",
    "        1.44, 1.44, 1.590, 1.590, 1.590, 1.850, 1.850, 1.850, 1.850, 1.850, 1.850, 1.850, 1.850, 1.850, 1.850, 1.590, 1.590, 1.44, 1.44\n",
    "    ])\n",
    "\n",
    "z = pa.array([\n",
    "        1.325, 1.250, 0.800, 0.725, 0.650, 0.300, 0.225, 0.150, 0.075, 0.000, -0.075, -0.150, -0.225, -0.300, -0.650, -0.725, -0.800, -1.250, -1.325\n",
    "    ])\n",
    "\n",
    "toroidal_angle = pa.array([\n",
    "        150, 270, 270, 270, 270, 270, 270, 270, 270, 270, 270, 270, 270, 270, 270, 270, 270, 270, 270\n",
    "    ])\n",
    "\n",
    "\n",
    "xmc_omv = pa.Table.from_arrays([names, r, z, toroidal_angle], schema=schema)\n",
    "xmc_omv"
   ]
  },
  {
   "cell_type": "code",
   "execution_count": 2,
   "metadata": {},
   "outputs": [],
   "source": [
    "import pyarrow.parquet as pq\n",
    "\n",
    "pq.write_table(xmc_omv, '../geometry_files/xmc_omv.parquet')"
   ]
  }
 ],
 "metadata": {
  "kernelspec": {
   "display_name": "venv",
   "language": "python",
   "name": "python3"
  },
  "language_info": {
   "codemirror_mode": {
    "name": "ipython",
    "version": 3
   },
   "file_extension": ".py",
   "mimetype": "text/x-python",
   "name": "python",
   "nbconvert_exporter": "python",
   "pygments_lexer": "ipython3",
   "version": "3.13.0"
  }
 },
 "nbformat": 4,
 "nbformat_minor": 2
}
