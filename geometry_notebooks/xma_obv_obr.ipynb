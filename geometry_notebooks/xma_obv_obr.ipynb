{
 "cells": [
  {
   "cell_type": "markdown",
   "metadata": {},
   "source": [
    "## OBV/OBR Coils\n",
    "\n",
    "- The outboard discrete B-field OBV/OBR coils consist of two sets of 19 pairs of Br/Bv coils, diametrically opposed at sectors 5 & 11 (150 deg, 330 deg) \n",
    "\n",
    "- Raw signal names are XMA_OBV** and XMA_OBR**, where ** is the coil number as shown in the table below. \n",
    "\n",
    "- The signals from two coils 180 deg apart are summed and integrated using Culham 8865 quad integrating amplifiers before digitisation."
   ]
  },
  {
   "cell_type": "code",
   "execution_count": 5,
   "metadata": {},
   "outputs": [
    {
     "data": {
      "text/plain": [
       "pyarrow.Table\n",
       "uda_name: string\n",
       "uda_name: string\n",
       "r: float\n",
       "z: float\n",
       "toroidal_angle1: int32\n",
       "toroidal_angle2: int32\n",
       "----\n",
       "uda_name: [[\"XMA_OBR01\",\"XMA_OBR02\",\"XMA_OBR03\",\"XMA_OBR04\",\"XMA_OBR05\",...,\"XMA_OBR15\",\"XMA_OBR16\",\"XMA_OBR17\",\"XMA_OBR18\",\"XMA_OBR19\"]]\n",
       "uda_name: [[\"XMA_OBV01\",\"XMA_OBV02\",\"XMA_OBV03\",\"XMA_OBV04\",\"XMA_OBV05\",...,\"XMA_OBV15\",\"XMA_OBV16\",\"XMA_OBV17\",\"XMA_OBV18\",\"XMA_OBV19\"]]\n",
       "r: [[1.44,1.44,1.59,1.59,1.59,...,1.85,1.59,1.59,1.44,1.44]]\n",
       "z: [[1.325,1.25,0.8,0.725,0.65,...,-0.65,-0.725,-0.8,-1.25,-1.325]]\n",
       "toroidal_angle1: [[150,150,150,150,150,...,150,150,150,150,150]]\n",
       "toroidal_angle2: [[330,330,330,330,330,...,330,330,330,330,330]]"
      ]
     },
     "execution_count": 5,
     "metadata": {},
     "output_type": "execute_result"
    }
   ],
   "source": [
    "import pyarrow as pa\n",
    "import json\n",
    "\n",
    "# Define the fields\n",
    "obr_field = pa.field(\"uda_name\", pa.string())\n",
    "ovr_field = pa.field(\"uda_name\", pa.string())\n",
    "r_field = pa.field(\"r\", pa.float32(), metadata={\"units\": \"meter\"})\n",
    "z_field = pa.field(\"z\", pa.float32(), metadata={\"units\": \"meter\"})\n",
    "toroidal_angle1_field = pa.field(\"toroidal_angle1\", pa.int32(), metadata={\"units\": \"degree\"})\n",
    "toroidal_angle2_field = pa.field(\"toroidal_angle2\", pa.int32(), metadata={\"units\": \"degree\"})\n",
    "\n",
    "# Create the schema\n",
    "schema = pa.schema([obr_field, ovr_field, r_field, z_field, toroidal_angle1_field, toroidal_angle2_field])\n",
    "\n",
    "\n",
    "# Create PyArrow arrays for each field\n",
    "obr_names = pa.array([\n",
    "        \"XMA_OBR01\", \"XMA_OBR02\", \"XMA_OBR03\", \"XMA_OBR04\", \"XMA_OBR05\", \"XMA_OBR06\", \"XMA_OBR07\", \"XMA_OBR08\", \"XMA_OBR09\", \"XMA_OBR10\",\n",
    "        \"XMA_OBR11\", \"XMA_OBR12\", \"XMA_OBR13\", \"XMA_OBR14\", \"XMA_OBR15\", \"XMA_OBR16\", \"XMA_OBR17\", \"XMA_OBR18\", \"XMA_OBR19\"\n",
    "    ])\n",
    "\n",
    "obv_names = pa.array([\n",
    "        \"XMA_OBV01\", \"XMA_OBV02\", \"XMA_OBV03\", \"XMA_OBV04\", \"XMA_OBV05\", \"XMA_OBV06\", \"XMA_OBV07\", \"XMA_OBV08\", \"XMA_OBV09\", \"XMA_OBV10\",\n",
    "        \"XMA_OBV11\", \"XMA_OBV12\", \"XMA_OBV13\", \"XMA_OBV14\", \"XMA_OBV15\", \"XMA_OBV16\", \"XMA_OBV17\", \"XMA_OBV18\", \"XMA_OBV19\"\n",
    "    ])\n",
    "\n",
    "\n",
    "r = pa.array([\n",
    "        1.440, 1.440, 1.590, 1.590, 1.590, 1.850, 1.850, 1.850, 1.850, 1.850,\n",
    "        1.850, 1.850, 1.850, 1.850, 1.850, 1.590, 1.590, 1.440, 1.440\n",
    "    ])\n",
    "\n",
    "z = pa.array([\n",
    "        1.325, 1.250, 0.800, 0.725, 0.650, 0.300, 0.225, 0.150, 0.075, 0.000,\n",
    "        -0.075, -0.150, -0.225, -0.300, -0.650, -0.725, -0.800, -1.250, -1.325\n",
    "    ])\n",
    "\n",
    "toroidal_angle1 = pa.array([150] * len(obr_names))\n",
    "toroidal_angle2 = pa.array([330] * len(obr_names))\n",
    "\n",
    "\n",
    "\n",
    "obv_obr_coils = pa.Table.from_arrays([obr_names, obv_names, r, z, toroidal_angle1, toroidal_angle2], schema=schema)\n",
    "obv_obr_coils"
   ]
  },
  {
   "cell_type": "code",
   "execution_count": 6,
   "metadata": {},
   "outputs": [],
   "source": [
    "import pyarrow.parquet as pq\n",
    "\n",
    "pq.write_table(obv_obr_coils, '../geometry_files/xma_obv_obr.parquet')"
   ]
  }
 ],
 "metadata": {
  "kernelspec": {
   "display_name": "venv",
   "language": "python",
   "name": "python3"
  },
  "language_info": {
   "codemirror_mode": {
    "name": "ipython",
    "version": 3
   },
   "file_extension": ".py",
   "mimetype": "text/x-python",
   "name": "python",
   "nbconvert_exporter": "python",
   "pygments_lexer": "ipython3",
   "version": "3.13.0"
  }
 },
 "nbformat": 4,
 "nbformat_minor": 2
}
